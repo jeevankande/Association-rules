{
 "cells": [
  {
   "cell_type": "code",
   "execution_count": 26,
   "metadata": {},
   "outputs": [],
   "source": [
    "import pandas as pd\n",
    "from mlxtend.frequent_patterns import apriori,association_rules\n",
    "#from apyori import apriori\n",
    "import seaborn as sns\n",
    "import matplotlib.pyplot as plt\n",
    "import networkx as nx\n",
    "import plotly.express as px"
   ]
  },
  {
   "cell_type": "code",
   "execution_count": 2,
   "metadata": {},
   "outputs": [],
   "source": [
    "df = pd.read_csv(\"H:\\\\study\\\\Association Rules\\\\Assignments\\\\my_movies.csv\")"
   ]
  },
  {
   "cell_type": "code",
   "execution_count": 3,
   "metadata": {},
   "outputs": [
    {
     "data": {
      "text/html": [
       "<div>\n",
       "<style scoped>\n",
       "    .dataframe tbody tr th:only-of-type {\n",
       "        vertical-align: middle;\n",
       "    }\n",
       "\n",
       "    .dataframe tbody tr th {\n",
       "        vertical-align: top;\n",
       "    }\n",
       "\n",
       "    .dataframe thead th {\n",
       "        text-align: right;\n",
       "    }\n",
       "</style>\n",
       "<table border=\"1\" class=\"dataframe\">\n",
       "  <thead>\n",
       "    <tr style=\"text-align: right;\">\n",
       "      <th></th>\n",
       "      <th>V1</th>\n",
       "      <th>V2</th>\n",
       "      <th>V3</th>\n",
       "      <th>V4</th>\n",
       "      <th>V5</th>\n",
       "      <th>Sixth Sense</th>\n",
       "      <th>Gladiator</th>\n",
       "      <th>LOTR1</th>\n",
       "      <th>Harry Potter1</th>\n",
       "      <th>Patriot</th>\n",
       "      <th>LOTR2</th>\n",
       "      <th>Harry Potter2</th>\n",
       "      <th>LOTR</th>\n",
       "      <th>Braveheart</th>\n",
       "      <th>Green Mile</th>\n",
       "    </tr>\n",
       "  </thead>\n",
       "  <tbody>\n",
       "    <tr>\n",
       "      <th>0</th>\n",
       "      <td>Sixth Sense</td>\n",
       "      <td>LOTR1</td>\n",
       "      <td>Harry Potter1</td>\n",
       "      <td>Green Mile</td>\n",
       "      <td>LOTR2</td>\n",
       "      <td>1</td>\n",
       "      <td>0</td>\n",
       "      <td>1</td>\n",
       "      <td>1</td>\n",
       "      <td>0</td>\n",
       "      <td>1</td>\n",
       "      <td>0</td>\n",
       "      <td>0</td>\n",
       "      <td>0</td>\n",
       "      <td>1</td>\n",
       "    </tr>\n",
       "    <tr>\n",
       "      <th>1</th>\n",
       "      <td>Gladiator</td>\n",
       "      <td>Patriot</td>\n",
       "      <td>Braveheart</td>\n",
       "      <td>NaN</td>\n",
       "      <td>NaN</td>\n",
       "      <td>0</td>\n",
       "      <td>1</td>\n",
       "      <td>0</td>\n",
       "      <td>0</td>\n",
       "      <td>1</td>\n",
       "      <td>0</td>\n",
       "      <td>0</td>\n",
       "      <td>0</td>\n",
       "      <td>1</td>\n",
       "      <td>0</td>\n",
       "    </tr>\n",
       "    <tr>\n",
       "      <th>2</th>\n",
       "      <td>LOTR1</td>\n",
       "      <td>LOTR2</td>\n",
       "      <td>NaN</td>\n",
       "      <td>NaN</td>\n",
       "      <td>NaN</td>\n",
       "      <td>0</td>\n",
       "      <td>0</td>\n",
       "      <td>1</td>\n",
       "      <td>0</td>\n",
       "      <td>0</td>\n",
       "      <td>1</td>\n",
       "      <td>0</td>\n",
       "      <td>0</td>\n",
       "      <td>0</td>\n",
       "      <td>0</td>\n",
       "    </tr>\n",
       "    <tr>\n",
       "      <th>3</th>\n",
       "      <td>Gladiator</td>\n",
       "      <td>Patriot</td>\n",
       "      <td>Sixth Sense</td>\n",
       "      <td>NaN</td>\n",
       "      <td>NaN</td>\n",
       "      <td>1</td>\n",
       "      <td>1</td>\n",
       "      <td>0</td>\n",
       "      <td>0</td>\n",
       "      <td>1</td>\n",
       "      <td>0</td>\n",
       "      <td>0</td>\n",
       "      <td>0</td>\n",
       "      <td>0</td>\n",
       "      <td>0</td>\n",
       "    </tr>\n",
       "    <tr>\n",
       "      <th>4</th>\n",
       "      <td>Gladiator</td>\n",
       "      <td>Patriot</td>\n",
       "      <td>Sixth Sense</td>\n",
       "      <td>NaN</td>\n",
       "      <td>NaN</td>\n",
       "      <td>1</td>\n",
       "      <td>1</td>\n",
       "      <td>0</td>\n",
       "      <td>0</td>\n",
       "      <td>1</td>\n",
       "      <td>0</td>\n",
       "      <td>0</td>\n",
       "      <td>0</td>\n",
       "      <td>0</td>\n",
       "      <td>0</td>\n",
       "    </tr>\n",
       "    <tr>\n",
       "      <th>5</th>\n",
       "      <td>Gladiator</td>\n",
       "      <td>Patriot</td>\n",
       "      <td>Sixth Sense</td>\n",
       "      <td>NaN</td>\n",
       "      <td>NaN</td>\n",
       "      <td>1</td>\n",
       "      <td>1</td>\n",
       "      <td>0</td>\n",
       "      <td>0</td>\n",
       "      <td>1</td>\n",
       "      <td>0</td>\n",
       "      <td>0</td>\n",
       "      <td>0</td>\n",
       "      <td>0</td>\n",
       "      <td>0</td>\n",
       "    </tr>\n",
       "    <tr>\n",
       "      <th>6</th>\n",
       "      <td>Harry Potter1</td>\n",
       "      <td>Harry Potter2</td>\n",
       "      <td>NaN</td>\n",
       "      <td>NaN</td>\n",
       "      <td>NaN</td>\n",
       "      <td>0</td>\n",
       "      <td>0</td>\n",
       "      <td>0</td>\n",
       "      <td>1</td>\n",
       "      <td>0</td>\n",
       "      <td>0</td>\n",
       "      <td>1</td>\n",
       "      <td>0</td>\n",
       "      <td>0</td>\n",
       "      <td>0</td>\n",
       "    </tr>\n",
       "    <tr>\n",
       "      <th>7</th>\n",
       "      <td>Gladiator</td>\n",
       "      <td>Patriot</td>\n",
       "      <td>NaN</td>\n",
       "      <td>NaN</td>\n",
       "      <td>NaN</td>\n",
       "      <td>0</td>\n",
       "      <td>1</td>\n",
       "      <td>0</td>\n",
       "      <td>0</td>\n",
       "      <td>1</td>\n",
       "      <td>0</td>\n",
       "      <td>0</td>\n",
       "      <td>0</td>\n",
       "      <td>0</td>\n",
       "      <td>0</td>\n",
       "    </tr>\n",
       "    <tr>\n",
       "      <th>8</th>\n",
       "      <td>Gladiator</td>\n",
       "      <td>Patriot</td>\n",
       "      <td>Sixth Sense</td>\n",
       "      <td>NaN</td>\n",
       "      <td>NaN</td>\n",
       "      <td>1</td>\n",
       "      <td>1</td>\n",
       "      <td>0</td>\n",
       "      <td>0</td>\n",
       "      <td>1</td>\n",
       "      <td>0</td>\n",
       "      <td>0</td>\n",
       "      <td>0</td>\n",
       "      <td>0</td>\n",
       "      <td>0</td>\n",
       "    </tr>\n",
       "    <tr>\n",
       "      <th>9</th>\n",
       "      <td>Sixth Sense</td>\n",
       "      <td>LOTR</td>\n",
       "      <td>Gladiator</td>\n",
       "      <td>Green Mile</td>\n",
       "      <td>NaN</td>\n",
       "      <td>1</td>\n",
       "      <td>1</td>\n",
       "      <td>0</td>\n",
       "      <td>0</td>\n",
       "      <td>0</td>\n",
       "      <td>0</td>\n",
       "      <td>0</td>\n",
       "      <td>1</td>\n",
       "      <td>0</td>\n",
       "      <td>1</td>\n",
       "    </tr>\n",
       "  </tbody>\n",
       "</table>\n",
       "</div>"
      ],
      "text/plain": [
       "              V1             V2             V3          V4     V5  ...  LOTR2  Harry Potter2  LOTR  Braveheart  Green Mile\n",
       "0    Sixth Sense          LOTR1  Harry Potter1  Green Mile  LOTR2  ...      1              0     0           0           1\n",
       "1      Gladiator        Patriot     Braveheart         NaN    NaN  ...      0              0     0           1           0\n",
       "2          LOTR1          LOTR2            NaN         NaN    NaN  ...      1              0     0           0           0\n",
       "3      Gladiator        Patriot    Sixth Sense         NaN    NaN  ...      0              0     0           0           0\n",
       "4      Gladiator        Patriot    Sixth Sense         NaN    NaN  ...      0              0     0           0           0\n",
       "5      Gladiator        Patriot    Sixth Sense         NaN    NaN  ...      0              0     0           0           0\n",
       "6  Harry Potter1  Harry Potter2            NaN         NaN    NaN  ...      0              1     0           0           0\n",
       "7      Gladiator        Patriot            NaN         NaN    NaN  ...      0              0     0           0           0\n",
       "8      Gladiator        Patriot    Sixth Sense         NaN    NaN  ...      0              0     0           0           0\n",
       "9    Sixth Sense           LOTR      Gladiator  Green Mile    NaN  ...      0              0     1           0           1\n",
       "\n",
       "[10 rows x 15 columns]"
      ]
     },
     "execution_count": 3,
     "metadata": {},
     "output_type": "execute_result"
    }
   ],
   "source": [
    "df"
   ]
  },
  {
   "cell_type": "code",
   "execution_count": 24,
   "metadata": {},
   "outputs": [],
   "source": [
    "df_movies = df.iloc[:,5:]"
   ]
  },
  {
   "cell_type": "code",
   "execution_count": 25,
   "metadata": {},
   "outputs": [
    {
     "data": {
      "text/html": [
       "<div>\n",
       "<style scoped>\n",
       "    .dataframe tbody tr th:only-of-type {\n",
       "        vertical-align: middle;\n",
       "    }\n",
       "\n",
       "    .dataframe tbody tr th {\n",
       "        vertical-align: top;\n",
       "    }\n",
       "\n",
       "    .dataframe thead th {\n",
       "        text-align: right;\n",
       "    }\n",
       "</style>\n",
       "<table border=\"1\" class=\"dataframe\">\n",
       "  <thead>\n",
       "    <tr style=\"text-align: right;\">\n",
       "      <th></th>\n",
       "      <th>Sixth Sense</th>\n",
       "      <th>Gladiator</th>\n",
       "      <th>LOTR1</th>\n",
       "      <th>Harry Potter1</th>\n",
       "      <th>Patriot</th>\n",
       "      <th>LOTR2</th>\n",
       "      <th>Harry Potter2</th>\n",
       "      <th>LOTR</th>\n",
       "      <th>Braveheart</th>\n",
       "      <th>Green Mile</th>\n",
       "    </tr>\n",
       "  </thead>\n",
       "  <tbody>\n",
       "    <tr>\n",
       "      <th>0</th>\n",
       "      <td>1</td>\n",
       "      <td>0</td>\n",
       "      <td>1</td>\n",
       "      <td>1</td>\n",
       "      <td>0</td>\n",
       "      <td>1</td>\n",
       "      <td>0</td>\n",
       "      <td>0</td>\n",
       "      <td>0</td>\n",
       "      <td>1</td>\n",
       "    </tr>\n",
       "    <tr>\n",
       "      <th>1</th>\n",
       "      <td>0</td>\n",
       "      <td>1</td>\n",
       "      <td>0</td>\n",
       "      <td>0</td>\n",
       "      <td>1</td>\n",
       "      <td>0</td>\n",
       "      <td>0</td>\n",
       "      <td>0</td>\n",
       "      <td>1</td>\n",
       "      <td>0</td>\n",
       "    </tr>\n",
       "    <tr>\n",
       "      <th>2</th>\n",
       "      <td>0</td>\n",
       "      <td>0</td>\n",
       "      <td>1</td>\n",
       "      <td>0</td>\n",
       "      <td>0</td>\n",
       "      <td>1</td>\n",
       "      <td>0</td>\n",
       "      <td>0</td>\n",
       "      <td>0</td>\n",
       "      <td>0</td>\n",
       "    </tr>\n",
       "    <tr>\n",
       "      <th>3</th>\n",
       "      <td>1</td>\n",
       "      <td>1</td>\n",
       "      <td>0</td>\n",
       "      <td>0</td>\n",
       "      <td>1</td>\n",
       "      <td>0</td>\n",
       "      <td>0</td>\n",
       "      <td>0</td>\n",
       "      <td>0</td>\n",
       "      <td>0</td>\n",
       "    </tr>\n",
       "    <tr>\n",
       "      <th>4</th>\n",
       "      <td>1</td>\n",
       "      <td>1</td>\n",
       "      <td>0</td>\n",
       "      <td>0</td>\n",
       "      <td>1</td>\n",
       "      <td>0</td>\n",
       "      <td>0</td>\n",
       "      <td>0</td>\n",
       "      <td>0</td>\n",
       "      <td>0</td>\n",
       "    </tr>\n",
       "    <tr>\n",
       "      <th>5</th>\n",
       "      <td>1</td>\n",
       "      <td>1</td>\n",
       "      <td>0</td>\n",
       "      <td>0</td>\n",
       "      <td>1</td>\n",
       "      <td>0</td>\n",
       "      <td>0</td>\n",
       "      <td>0</td>\n",
       "      <td>0</td>\n",
       "      <td>0</td>\n",
       "    </tr>\n",
       "    <tr>\n",
       "      <th>6</th>\n",
       "      <td>0</td>\n",
       "      <td>0</td>\n",
       "      <td>0</td>\n",
       "      <td>1</td>\n",
       "      <td>0</td>\n",
       "      <td>0</td>\n",
       "      <td>1</td>\n",
       "      <td>0</td>\n",
       "      <td>0</td>\n",
       "      <td>0</td>\n",
       "    </tr>\n",
       "    <tr>\n",
       "      <th>7</th>\n",
       "      <td>0</td>\n",
       "      <td>1</td>\n",
       "      <td>0</td>\n",
       "      <td>0</td>\n",
       "      <td>1</td>\n",
       "      <td>0</td>\n",
       "      <td>0</td>\n",
       "      <td>0</td>\n",
       "      <td>0</td>\n",
       "      <td>0</td>\n",
       "    </tr>\n",
       "    <tr>\n",
       "      <th>8</th>\n",
       "      <td>1</td>\n",
       "      <td>1</td>\n",
       "      <td>0</td>\n",
       "      <td>0</td>\n",
       "      <td>1</td>\n",
       "      <td>0</td>\n",
       "      <td>0</td>\n",
       "      <td>0</td>\n",
       "      <td>0</td>\n",
       "      <td>0</td>\n",
       "    </tr>\n",
       "    <tr>\n",
       "      <th>9</th>\n",
       "      <td>1</td>\n",
       "      <td>1</td>\n",
       "      <td>0</td>\n",
       "      <td>0</td>\n",
       "      <td>0</td>\n",
       "      <td>0</td>\n",
       "      <td>0</td>\n",
       "      <td>1</td>\n",
       "      <td>0</td>\n",
       "      <td>1</td>\n",
       "    </tr>\n",
       "  </tbody>\n",
       "</table>\n",
       "</div>"
      ],
      "text/plain": [
       "   Sixth Sense  Gladiator  LOTR1  Harry Potter1  Patriot  LOTR2  Harry Potter2  LOTR  Braveheart  Green Mile\n",
       "0            1          0      1              1        0      1              0     0           0           1\n",
       "1            0          1      0              0        1      0              0     0           1           0\n",
       "2            0          0      1              0        0      1              0     0           0           0\n",
       "3            1          1      0              0        1      0              0     0           0           0\n",
       "4            1          1      0              0        1      0              0     0           0           0\n",
       "5            1          1      0              0        1      0              0     0           0           0\n",
       "6            0          0      0              1        0      0              1     0           0           0\n",
       "7            0          1      0              0        1      0              0     0           0           0\n",
       "8            1          1      0              0        1      0              0     0           0           0\n",
       "9            1          1      0              0        0      0              0     1           0           1"
      ]
     },
     "execution_count": 25,
     "metadata": {},
     "output_type": "execute_result"
    }
   ],
   "source": [
    "df_movies"
   ]
  },
  {
   "cell_type": "code",
   "execution_count": 27,
   "metadata": {},
   "outputs": [],
   "source": [
    "frequencies_of_movies = apriori(df_movies,min_support=0.075,max_len=4,use_colnames=True)"
   ]
  },
  {
   "cell_type": "code",
   "execution_count": 57,
   "metadata": {},
   "outputs": [
    {
     "data": {
      "text/html": [
       "<style type=\"text/css\">\n",
       "#T_a69ab_row0_col0, #T_a69ab_row4_col0, #T_a69ab_row17_col0 {\n",
       "  background-color: #105ba4;\n",
       "  color: #f1f1f1;\n",
       "}\n",
       "#T_a69ab_row1_col0 {\n",
       "  background-color: #08306b;\n",
       "  color: #f1f1f1;\n",
       "}\n",
       "#T_a69ab_row2_col0, #T_a69ab_row3_col0, #T_a69ab_row5_col0, #T_a69ab_row9_col0, #T_a69ab_row16_col0, #T_a69ab_row22_col0 {\n",
       "  background-color: #d6e6f4;\n",
       "  color: #000000;\n",
       "}\n",
       "#T_a69ab_row6_col0, #T_a69ab_row7_col0, #T_a69ab_row8_col0, #T_a69ab_row11_col0, #T_a69ab_row12_col0, #T_a69ab_row14_col0, #T_a69ab_row15_col0, #T_a69ab_row18_col0, #T_a69ab_row19_col0, #T_a69ab_row20_col0, #T_a69ab_row21_col0, #T_a69ab_row23_col0, #T_a69ab_row24_col0, #T_a69ab_row25_col0, #T_a69ab_row26_col0, #T_a69ab_row27_col0, #T_a69ab_row28_col0, #T_a69ab_row29_col0, #T_a69ab_row31_col0, #T_a69ab_row32_col0, #T_a69ab_row33_col0, #T_a69ab_row34_col0, #T_a69ab_row35_col0, #T_a69ab_row36_col0, #T_a69ab_row37_col0, #T_a69ab_row38_col0, #T_a69ab_row39_col0, #T_a69ab_row40_col0, #T_a69ab_row41_col0, #T_a69ab_row42_col0, #T_a69ab_row43_col0, #T_a69ab_row44_col0, #T_a69ab_row45_col0, #T_a69ab_row46_col0, #T_a69ab_row47_col0, #T_a69ab_row48_col0, #T_a69ab_row49_col0, #T_a69ab_row50_col0, #T_a69ab_row51_col0 {\n",
       "  background-color: #f7fbff;\n",
       "  color: #000000;\n",
       "}\n",
       "#T_a69ab_row10_col0 {\n",
       "  background-color: #3787c0;\n",
       "  color: #f1f1f1;\n",
       "}\n",
       "#T_a69ab_row13_col0, #T_a69ab_row30_col0 {\n",
       "  background-color: #6aaed6;\n",
       "  color: #f1f1f1;\n",
       "}\n",
       "</style>\n",
       "<table id=\"T_a69ab_\">\n",
       "  <thead>\n",
       "    <tr>\n",
       "      <th class=\"blank level0\" >&nbsp;</th>\n",
       "      <th class=\"col_heading level0 col0\" >support</th>\n",
       "      <th class=\"col_heading level0 col1\" >itemsets</th>\n",
       "    </tr>\n",
       "  </thead>\n",
       "  <tbody>\n",
       "    <tr>\n",
       "      <th id=\"T_a69ab_level0_row0\" class=\"row_heading level0 row0\" >0</th>\n",
       "      <td id=\"T_a69ab_row0_col0\" class=\"data row0 col0\" >0.600000</td>\n",
       "      <td id=\"T_a69ab_row0_col1\" class=\"data row0 col1\" >frozenset({'Sixth Sense'})</td>\n",
       "    </tr>\n",
       "    <tr>\n",
       "      <th id=\"T_a69ab_level0_row1\" class=\"row_heading level0 row1\" >1</th>\n",
       "      <td id=\"T_a69ab_row1_col0\" class=\"data row1 col0\" >0.700000</td>\n",
       "      <td id=\"T_a69ab_row1_col1\" class=\"data row1 col1\" >frozenset({'Gladiator'})</td>\n",
       "    </tr>\n",
       "    <tr>\n",
       "      <th id=\"T_a69ab_level0_row2\" class=\"row_heading level0 row2\" >2</th>\n",
       "      <td id=\"T_a69ab_row2_col0\" class=\"data row2 col0\" >0.200000</td>\n",
       "      <td id=\"T_a69ab_row2_col1\" class=\"data row2 col1\" >frozenset({'LOTR1'})</td>\n",
       "    </tr>\n",
       "    <tr>\n",
       "      <th id=\"T_a69ab_level0_row3\" class=\"row_heading level0 row3\" >3</th>\n",
       "      <td id=\"T_a69ab_row3_col0\" class=\"data row3 col0\" >0.200000</td>\n",
       "      <td id=\"T_a69ab_row3_col1\" class=\"data row3 col1\" >frozenset({'Harry Potter1'})</td>\n",
       "    </tr>\n",
       "    <tr>\n",
       "      <th id=\"T_a69ab_level0_row4\" class=\"row_heading level0 row4\" >4</th>\n",
       "      <td id=\"T_a69ab_row4_col0\" class=\"data row4 col0\" >0.600000</td>\n",
       "      <td id=\"T_a69ab_row4_col1\" class=\"data row4 col1\" >frozenset({'Patriot'})</td>\n",
       "    </tr>\n",
       "    <tr>\n",
       "      <th id=\"T_a69ab_level0_row5\" class=\"row_heading level0 row5\" >5</th>\n",
       "      <td id=\"T_a69ab_row5_col0\" class=\"data row5 col0\" >0.200000</td>\n",
       "      <td id=\"T_a69ab_row5_col1\" class=\"data row5 col1\" >frozenset({'LOTR2'})</td>\n",
       "    </tr>\n",
       "    <tr>\n",
       "      <th id=\"T_a69ab_level0_row6\" class=\"row_heading level0 row6\" >6</th>\n",
       "      <td id=\"T_a69ab_row6_col0\" class=\"data row6 col0\" >0.100000</td>\n",
       "      <td id=\"T_a69ab_row6_col1\" class=\"data row6 col1\" >frozenset({'Harry Potter2'})</td>\n",
       "    </tr>\n",
       "    <tr>\n",
       "      <th id=\"T_a69ab_level0_row7\" class=\"row_heading level0 row7\" >7</th>\n",
       "      <td id=\"T_a69ab_row7_col0\" class=\"data row7 col0\" >0.100000</td>\n",
       "      <td id=\"T_a69ab_row7_col1\" class=\"data row7 col1\" >frozenset({'LOTR'})</td>\n",
       "    </tr>\n",
       "    <tr>\n",
       "      <th id=\"T_a69ab_level0_row8\" class=\"row_heading level0 row8\" >8</th>\n",
       "      <td id=\"T_a69ab_row8_col0\" class=\"data row8 col0\" >0.100000</td>\n",
       "      <td id=\"T_a69ab_row8_col1\" class=\"data row8 col1\" >frozenset({'Braveheart'})</td>\n",
       "    </tr>\n",
       "    <tr>\n",
       "      <th id=\"T_a69ab_level0_row9\" class=\"row_heading level0 row9\" >9</th>\n",
       "      <td id=\"T_a69ab_row9_col0\" class=\"data row9 col0\" >0.200000</td>\n",
       "      <td id=\"T_a69ab_row9_col1\" class=\"data row9 col1\" >frozenset({'Green Mile'})</td>\n",
       "    </tr>\n",
       "    <tr>\n",
       "      <th id=\"T_a69ab_level0_row10\" class=\"row_heading level0 row10\" >10</th>\n",
       "      <td id=\"T_a69ab_row10_col0\" class=\"data row10 col0\" >0.500000</td>\n",
       "      <td id=\"T_a69ab_row10_col1\" class=\"data row10 col1\" >frozenset({'Gladiator', 'Sixth Sense'})</td>\n",
       "    </tr>\n",
       "    <tr>\n",
       "      <th id=\"T_a69ab_level0_row11\" class=\"row_heading level0 row11\" >11</th>\n",
       "      <td id=\"T_a69ab_row11_col0\" class=\"data row11 col0\" >0.100000</td>\n",
       "      <td id=\"T_a69ab_row11_col1\" class=\"data row11 col1\" >frozenset({'LOTR1', 'Sixth Sense'})</td>\n",
       "    </tr>\n",
       "    <tr>\n",
       "      <th id=\"T_a69ab_level0_row12\" class=\"row_heading level0 row12\" >12</th>\n",
       "      <td id=\"T_a69ab_row12_col0\" class=\"data row12 col0\" >0.100000</td>\n",
       "      <td id=\"T_a69ab_row12_col1\" class=\"data row12 col1\" >frozenset({'Harry Potter1', 'Sixth Sense'})</td>\n",
       "    </tr>\n",
       "    <tr>\n",
       "      <th id=\"T_a69ab_level0_row13\" class=\"row_heading level0 row13\" >13</th>\n",
       "      <td id=\"T_a69ab_row13_col0\" class=\"data row13 col0\" >0.400000</td>\n",
       "      <td id=\"T_a69ab_row13_col1\" class=\"data row13 col1\" >frozenset({'Patriot', 'Sixth Sense'})</td>\n",
       "    </tr>\n",
       "    <tr>\n",
       "      <th id=\"T_a69ab_level0_row14\" class=\"row_heading level0 row14\" >14</th>\n",
       "      <td id=\"T_a69ab_row14_col0\" class=\"data row14 col0\" >0.100000</td>\n",
       "      <td id=\"T_a69ab_row14_col1\" class=\"data row14 col1\" >frozenset({'Sixth Sense', 'LOTR2'})</td>\n",
       "    </tr>\n",
       "    <tr>\n",
       "      <th id=\"T_a69ab_level0_row15\" class=\"row_heading level0 row15\" >15</th>\n",
       "      <td id=\"T_a69ab_row15_col0\" class=\"data row15 col0\" >0.100000</td>\n",
       "      <td id=\"T_a69ab_row15_col1\" class=\"data row15 col1\" >frozenset({'LOTR', 'Sixth Sense'})</td>\n",
       "    </tr>\n",
       "    <tr>\n",
       "      <th id=\"T_a69ab_level0_row16\" class=\"row_heading level0 row16\" >16</th>\n",
       "      <td id=\"T_a69ab_row16_col0\" class=\"data row16 col0\" >0.200000</td>\n",
       "      <td id=\"T_a69ab_row16_col1\" class=\"data row16 col1\" >frozenset({'Green Mile', 'Sixth Sense'})</td>\n",
       "    </tr>\n",
       "    <tr>\n",
       "      <th id=\"T_a69ab_level0_row17\" class=\"row_heading level0 row17\" >17</th>\n",
       "      <td id=\"T_a69ab_row17_col0\" class=\"data row17 col0\" >0.600000</td>\n",
       "      <td id=\"T_a69ab_row17_col1\" class=\"data row17 col1\" >frozenset({'Gladiator', 'Patriot'})</td>\n",
       "    </tr>\n",
       "    <tr>\n",
       "      <th id=\"T_a69ab_level0_row18\" class=\"row_heading level0 row18\" >18</th>\n",
       "      <td id=\"T_a69ab_row18_col0\" class=\"data row18 col0\" >0.100000</td>\n",
       "      <td id=\"T_a69ab_row18_col1\" class=\"data row18 col1\" >frozenset({'Gladiator', 'LOTR'})</td>\n",
       "    </tr>\n",
       "    <tr>\n",
       "      <th id=\"T_a69ab_level0_row19\" class=\"row_heading level0 row19\" >19</th>\n",
       "      <td id=\"T_a69ab_row19_col0\" class=\"data row19 col0\" >0.100000</td>\n",
       "      <td id=\"T_a69ab_row19_col1\" class=\"data row19 col1\" >frozenset({'Gladiator', 'Braveheart'})</td>\n",
       "    </tr>\n",
       "    <tr>\n",
       "      <th id=\"T_a69ab_level0_row20\" class=\"row_heading level0 row20\" >20</th>\n",
       "      <td id=\"T_a69ab_row20_col0\" class=\"data row20 col0\" >0.100000</td>\n",
       "      <td id=\"T_a69ab_row20_col1\" class=\"data row20 col1\" >frozenset({'Gladiator', 'Green Mile'})</td>\n",
       "    </tr>\n",
       "    <tr>\n",
       "      <th id=\"T_a69ab_level0_row21\" class=\"row_heading level0 row21\" >21</th>\n",
       "      <td id=\"T_a69ab_row21_col0\" class=\"data row21 col0\" >0.100000</td>\n",
       "      <td id=\"T_a69ab_row21_col1\" class=\"data row21 col1\" >frozenset({'LOTR1', 'Harry Potter1'})</td>\n",
       "    </tr>\n",
       "    <tr>\n",
       "      <th id=\"T_a69ab_level0_row22\" class=\"row_heading level0 row22\" >22</th>\n",
       "      <td id=\"T_a69ab_row22_col0\" class=\"data row22 col0\" >0.200000</td>\n",
       "      <td id=\"T_a69ab_row22_col1\" class=\"data row22 col1\" >frozenset({'LOTR1', 'LOTR2'})</td>\n",
       "    </tr>\n",
       "    <tr>\n",
       "      <th id=\"T_a69ab_level0_row23\" class=\"row_heading level0 row23\" >23</th>\n",
       "      <td id=\"T_a69ab_row23_col0\" class=\"data row23 col0\" >0.100000</td>\n",
       "      <td id=\"T_a69ab_row23_col1\" class=\"data row23 col1\" >frozenset({'LOTR1', 'Green Mile'})</td>\n",
       "    </tr>\n",
       "    <tr>\n",
       "      <th id=\"T_a69ab_level0_row24\" class=\"row_heading level0 row24\" >24</th>\n",
       "      <td id=\"T_a69ab_row24_col0\" class=\"data row24 col0\" >0.100000</td>\n",
       "      <td id=\"T_a69ab_row24_col1\" class=\"data row24 col1\" >frozenset({'Harry Potter1', 'LOTR2'})</td>\n",
       "    </tr>\n",
       "    <tr>\n",
       "      <th id=\"T_a69ab_level0_row25\" class=\"row_heading level0 row25\" >25</th>\n",
       "      <td id=\"T_a69ab_row25_col0\" class=\"data row25 col0\" >0.100000</td>\n",
       "      <td id=\"T_a69ab_row25_col1\" class=\"data row25 col1\" >frozenset({'Harry Potter2', 'Harry Potter1'})</td>\n",
       "    </tr>\n",
       "    <tr>\n",
       "      <th id=\"T_a69ab_level0_row26\" class=\"row_heading level0 row26\" >26</th>\n",
       "      <td id=\"T_a69ab_row26_col0\" class=\"data row26 col0\" >0.100000</td>\n",
       "      <td id=\"T_a69ab_row26_col1\" class=\"data row26 col1\" >frozenset({'Green Mile', 'Harry Potter1'})</td>\n",
       "    </tr>\n",
       "    <tr>\n",
       "      <th id=\"T_a69ab_level0_row27\" class=\"row_heading level0 row27\" >27</th>\n",
       "      <td id=\"T_a69ab_row27_col0\" class=\"data row27 col0\" >0.100000</td>\n",
       "      <td id=\"T_a69ab_row27_col1\" class=\"data row27 col1\" >frozenset({'Patriot', 'Braveheart'})</td>\n",
       "    </tr>\n",
       "    <tr>\n",
       "      <th id=\"T_a69ab_level0_row28\" class=\"row_heading level0 row28\" >28</th>\n",
       "      <td id=\"T_a69ab_row28_col0\" class=\"data row28 col0\" >0.100000</td>\n",
       "      <td id=\"T_a69ab_row28_col1\" class=\"data row28 col1\" >frozenset({'Green Mile', 'LOTR2'})</td>\n",
       "    </tr>\n",
       "    <tr>\n",
       "      <th id=\"T_a69ab_level0_row29\" class=\"row_heading level0 row29\" >29</th>\n",
       "      <td id=\"T_a69ab_row29_col0\" class=\"data row29 col0\" >0.100000</td>\n",
       "      <td id=\"T_a69ab_row29_col1\" class=\"data row29 col1\" >frozenset({'Green Mile', 'LOTR'})</td>\n",
       "    </tr>\n",
       "    <tr>\n",
       "      <th id=\"T_a69ab_level0_row30\" class=\"row_heading level0 row30\" >30</th>\n",
       "      <td id=\"T_a69ab_row30_col0\" class=\"data row30 col0\" >0.400000</td>\n",
       "      <td id=\"T_a69ab_row30_col1\" class=\"data row30 col1\" >frozenset({'Gladiator', 'Patriot', 'Sixth Sense'})</td>\n",
       "    </tr>\n",
       "    <tr>\n",
       "      <th id=\"T_a69ab_level0_row31\" class=\"row_heading level0 row31\" >31</th>\n",
       "      <td id=\"T_a69ab_row31_col0\" class=\"data row31 col0\" >0.100000</td>\n",
       "      <td id=\"T_a69ab_row31_col1\" class=\"data row31 col1\" >frozenset({'Gladiator', 'LOTR', 'Sixth Sense'})</td>\n",
       "    </tr>\n",
       "    <tr>\n",
       "      <th id=\"T_a69ab_level0_row32\" class=\"row_heading level0 row32\" >32</th>\n",
       "      <td id=\"T_a69ab_row32_col0\" class=\"data row32 col0\" >0.100000</td>\n",
       "      <td id=\"T_a69ab_row32_col1\" class=\"data row32 col1\" >frozenset({'Gladiator', 'Green Mile', 'Sixth Sense'})</td>\n",
       "    </tr>\n",
       "    <tr>\n",
       "      <th id=\"T_a69ab_level0_row33\" class=\"row_heading level0 row33\" >33</th>\n",
       "      <td id=\"T_a69ab_row33_col0\" class=\"data row33 col0\" >0.100000</td>\n",
       "      <td id=\"T_a69ab_row33_col1\" class=\"data row33 col1\" >frozenset({'LOTR1', 'Sixth Sense', 'Harry Potter1'})</td>\n",
       "    </tr>\n",
       "    <tr>\n",
       "      <th id=\"T_a69ab_level0_row34\" class=\"row_heading level0 row34\" >34</th>\n",
       "      <td id=\"T_a69ab_row34_col0\" class=\"data row34 col0\" >0.100000</td>\n",
       "      <td id=\"T_a69ab_row34_col1\" class=\"data row34 col1\" >frozenset({'LOTR1', 'Sixth Sense', 'LOTR2'})</td>\n",
       "    </tr>\n",
       "    <tr>\n",
       "      <th id=\"T_a69ab_level0_row35\" class=\"row_heading level0 row35\" >35</th>\n",
       "      <td id=\"T_a69ab_row35_col0\" class=\"data row35 col0\" >0.100000</td>\n",
       "      <td id=\"T_a69ab_row35_col1\" class=\"data row35 col1\" >frozenset({'LOTR1', 'Green Mile', 'Sixth Sense'})</td>\n",
       "    </tr>\n",
       "    <tr>\n",
       "      <th id=\"T_a69ab_level0_row36\" class=\"row_heading level0 row36\" >36</th>\n",
       "      <td id=\"T_a69ab_row36_col0\" class=\"data row36 col0\" >0.100000</td>\n",
       "      <td id=\"T_a69ab_row36_col1\" class=\"data row36 col1\" >frozenset({'Harry Potter1', 'Sixth Sense', 'LOTR2'})</td>\n",
       "    </tr>\n",
       "    <tr>\n",
       "      <th id=\"T_a69ab_level0_row37\" class=\"row_heading level0 row37\" >37</th>\n",
       "      <td id=\"T_a69ab_row37_col0\" class=\"data row37 col0\" >0.100000</td>\n",
       "      <td id=\"T_a69ab_row37_col1\" class=\"data row37 col1\" >frozenset({'Green Mile', 'Sixth Sense', 'Harry Potter1'})</td>\n",
       "    </tr>\n",
       "    <tr>\n",
       "      <th id=\"T_a69ab_level0_row38\" class=\"row_heading level0 row38\" >38</th>\n",
       "      <td id=\"T_a69ab_row38_col0\" class=\"data row38 col0\" >0.100000</td>\n",
       "      <td id=\"T_a69ab_row38_col1\" class=\"data row38 col1\" >frozenset({'Green Mile', 'Sixth Sense', 'LOTR2'})</td>\n",
       "    </tr>\n",
       "    <tr>\n",
       "      <th id=\"T_a69ab_level0_row39\" class=\"row_heading level0 row39\" >39</th>\n",
       "      <td id=\"T_a69ab_row39_col0\" class=\"data row39 col0\" >0.100000</td>\n",
       "      <td id=\"T_a69ab_row39_col1\" class=\"data row39 col1\" >frozenset({'LOTR', 'Green Mile', 'Sixth Sense'})</td>\n",
       "    </tr>\n",
       "    <tr>\n",
       "      <th id=\"T_a69ab_level0_row40\" class=\"row_heading level0 row40\" >40</th>\n",
       "      <td id=\"T_a69ab_row40_col0\" class=\"data row40 col0\" >0.100000</td>\n",
       "      <td id=\"T_a69ab_row40_col1\" class=\"data row40 col1\" >frozenset({'Gladiator', 'Patriot', 'Braveheart'})</td>\n",
       "    </tr>\n",
       "    <tr>\n",
       "      <th id=\"T_a69ab_level0_row41\" class=\"row_heading level0 row41\" >41</th>\n",
       "      <td id=\"T_a69ab_row41_col0\" class=\"data row41 col0\" >0.100000</td>\n",
       "      <td id=\"T_a69ab_row41_col1\" class=\"data row41 col1\" >frozenset({'Gladiator', 'Green Mile', 'LOTR'})</td>\n",
       "    </tr>\n",
       "    <tr>\n",
       "      <th id=\"T_a69ab_level0_row42\" class=\"row_heading level0 row42\" >42</th>\n",
       "      <td id=\"T_a69ab_row42_col0\" class=\"data row42 col0\" >0.100000</td>\n",
       "      <td id=\"T_a69ab_row42_col1\" class=\"data row42 col1\" >frozenset({'LOTR1', 'Harry Potter1', 'LOTR2'})</td>\n",
       "    </tr>\n",
       "    <tr>\n",
       "      <th id=\"T_a69ab_level0_row43\" class=\"row_heading level0 row43\" >43</th>\n",
       "      <td id=\"T_a69ab_row43_col0\" class=\"data row43 col0\" >0.100000</td>\n",
       "      <td id=\"T_a69ab_row43_col1\" class=\"data row43 col1\" >frozenset({'LOTR1', 'Green Mile', 'Harry Potter1'})</td>\n",
       "    </tr>\n",
       "    <tr>\n",
       "      <th id=\"T_a69ab_level0_row44\" class=\"row_heading level0 row44\" >44</th>\n",
       "      <td id=\"T_a69ab_row44_col0\" class=\"data row44 col0\" >0.100000</td>\n",
       "      <td id=\"T_a69ab_row44_col1\" class=\"data row44 col1\" >frozenset({'LOTR1', 'Green Mile', 'LOTR2'})</td>\n",
       "    </tr>\n",
       "    <tr>\n",
       "      <th id=\"T_a69ab_level0_row45\" class=\"row_heading level0 row45\" >45</th>\n",
       "      <td id=\"T_a69ab_row45_col0\" class=\"data row45 col0\" >0.100000</td>\n",
       "      <td id=\"T_a69ab_row45_col1\" class=\"data row45 col1\" >frozenset({'Green Mile', 'Harry Potter1', 'LOTR2'})</td>\n",
       "    </tr>\n",
       "    <tr>\n",
       "      <th id=\"T_a69ab_level0_row46\" class=\"row_heading level0 row46\" >46</th>\n",
       "      <td id=\"T_a69ab_row46_col0\" class=\"data row46 col0\" >0.100000</td>\n",
       "      <td id=\"T_a69ab_row46_col1\" class=\"data row46 col1\" >frozenset({'Gladiator', 'Green Mile', 'Sixth Sense', 'LOTR'})</td>\n",
       "    </tr>\n",
       "    <tr>\n",
       "      <th id=\"T_a69ab_level0_row47\" class=\"row_heading level0 row47\" >47</th>\n",
       "      <td id=\"T_a69ab_row47_col0\" class=\"data row47 col0\" >0.100000</td>\n",
       "      <td id=\"T_a69ab_row47_col1\" class=\"data row47 col1\" >frozenset({'LOTR1', 'Sixth Sense', 'Harry Potter1', 'LOTR2'})</td>\n",
       "    </tr>\n",
       "    <tr>\n",
       "      <th id=\"T_a69ab_level0_row48\" class=\"row_heading level0 row48\" >48</th>\n",
       "      <td id=\"T_a69ab_row48_col0\" class=\"data row48 col0\" >0.100000</td>\n",
       "      <td id=\"T_a69ab_row48_col1\" class=\"data row48 col1\" >frozenset({'LOTR1', 'Green Mile', 'Sixth Sense', 'Harry Potter1'})</td>\n",
       "    </tr>\n",
       "    <tr>\n",
       "      <th id=\"T_a69ab_level0_row49\" class=\"row_heading level0 row49\" >49</th>\n",
       "      <td id=\"T_a69ab_row49_col0\" class=\"data row49 col0\" >0.100000</td>\n",
       "      <td id=\"T_a69ab_row49_col1\" class=\"data row49 col1\" >frozenset({'LOTR1', 'Green Mile', 'Sixth Sense', 'LOTR2'})</td>\n",
       "    </tr>\n",
       "    <tr>\n",
       "      <th id=\"T_a69ab_level0_row50\" class=\"row_heading level0 row50\" >50</th>\n",
       "      <td id=\"T_a69ab_row50_col0\" class=\"data row50 col0\" >0.100000</td>\n",
       "      <td id=\"T_a69ab_row50_col1\" class=\"data row50 col1\" >frozenset({'Green Mile', 'Sixth Sense', 'Harry Potter1', 'LOTR2'})</td>\n",
       "    </tr>\n",
       "    <tr>\n",
       "      <th id=\"T_a69ab_level0_row51\" class=\"row_heading level0 row51\" >51</th>\n",
       "      <td id=\"T_a69ab_row51_col0\" class=\"data row51 col0\" >0.100000</td>\n",
       "      <td id=\"T_a69ab_row51_col1\" class=\"data row51 col1\" >frozenset({'LOTR1', 'Green Mile', 'Harry Potter1', 'LOTR2'})</td>\n",
       "    </tr>\n",
       "  </tbody>\n",
       "</table>\n"
      ],
      "text/plain": [
       "<pandas.io.formats.style.Styler at 0x1f9e1749be0>"
      ]
     },
     "execution_count": 57,
     "metadata": {},
     "output_type": "execute_result"
    }
   ],
   "source": [
    "frequencies_of_movies.style.background_gradient(cmap='Blues')"
   ]
  },
  {
   "cell_type": "code",
   "execution_count": 59,
   "metadata": {},
   "outputs": [
    {
     "name": "stderr",
     "output_type": "stream",
     "text": [
      "<ipython-input-59-bb4080651d92>:3: MatplotlibDeprecationWarning:\n",
      "\n",
      "Using a string of single character colors as a color sequence is deprecated since 3.2 and will be removed two minor releases later. Use an explicit list instead.\n",
      "\n"
     ]
    },
    {
     "data": {
      "image/png": "[encoded data removed]",
      "text/plain": [
       "<Figure size 1080x1080 with 1 Axes>"
      ]
     },
     "metadata": {
      "needs_background": "light"
     },
     "output_type": "display_data"
    }
   ],
   "source": [
    "plt.figure(figsize=(15,15),)\n",
    "\n",
    "plt.bar(x = list(range(0, 11)), height = frequencies_of_movies.support[0:11], color ='rgmyk')\n",
    "plt.xticks(list(range(0, 11)), frequencies_of_movies.itemsets[0:11], rotation=20)\n",
    "plt.xlabel('item-sets')\n",
    "plt.ylabel('support')\n",
    "plt.show()"
   ]
  },
  {
   "cell_type": "code",
   "execution_count": 34,
   "metadata": {},
   "outputs": [],
   "source": [
    "df_asso_rules = association_rules(frequencies_of_movies,metric='conviction',min_threshold=1)"
   ]
  },
  {
   "cell_type": "code",
   "execution_count": 66,
   "metadata": {},
   "outputs": [
    {
     "name": "stderr",
     "output_type": "stream",
     "text": [
      "C:\\Users\\hp\\anaconda3\\lib\\site-packages\\pandas\\io\\formats\\style.py:2817: RuntimeWarning:\n",
      "\n",
      "invalid value encountered in double_scalars\n",
      "\n"
     ]
    },
    {
     "data": {
      "text/html": [
       "<style type=\"text/css\">\n",
       "#T_78d20_row0_col2, #T_78d20_row0_col4, #T_78d20_row0_col7, #T_78d20_row1_col3, #T_78d20_row1_col4, #T_78d20_row1_col7, #T_78d20_row4_col5, #T_78d20_row4_col6 {\n",
       "  background-color: #00441b;\n",
       "  color: #f1f1f1;\n",
       "}\n",
       "#T_78d20_row0_col3, #T_78d20_row2_col3, #T_78d20_row2_col5, #T_78d20_row2_col6, #T_78d20_row2_col7, #T_78d20_row3_col3, #T_78d20_row3_col5, #T_78d20_row3_col6, #T_78d20_row3_col7, #T_78d20_row4_col2, #T_78d20_row4_col3, #T_78d20_row4_col4, #T_78d20_row4_col7 {\n",
       "  background-color: #f7fcf5;\n",
       "  color: #000000;\n",
       "}\n",
       "#T_78d20_row0_col5, #T_78d20_row0_col6, #T_78d20_row1_col6 {\n",
       "  background-color: #e1f3dc;\n",
       "  color: #000000;\n",
       "}\n",
       "#T_78d20_row0_col8, #T_78d20_row1_col8, #T_78d20_row2_col8, #T_78d20_row3_col8, #T_78d20_row4_col8 {\n",
       "  background-color: #000000;\n",
       "  color: #f1f1f1;\n",
       "}\n",
       "#T_78d20_row1_col2, #T_78d20_row2_col2, #T_78d20_row3_col2 {\n",
       "  background-color: #0b7734;\n",
       "  color: #f1f1f1;\n",
       "}\n",
       "#T_78d20_row1_col5 {\n",
       "  background-color: #73c476;\n",
       "  color: #000000;\n",
       "}\n",
       "#T_78d20_row2_col4, #T_78d20_row3_col4 {\n",
       "  background-color: #228a44;\n",
       "  color: #f1f1f1;\n",
       "}\n",
       "</style>\n",
       "<table id=\"T_78d20_\">\n",
       "  <thead>\n",
       "    <tr>\n",
       "      <th class=\"blank level0\" >&nbsp;</th>\n",
       "      <th class=\"col_heading level0 col0\" >antecedents</th>\n",
       "      <th class=\"col_heading level0 col1\" >consequents</th>\n",
       "      <th class=\"col_heading level0 col2\" >antecedent support</th>\n",
       "      <th class=\"col_heading level0 col3\" >consequent support</th>\n",
       "      <th class=\"col_heading level0 col4\" >support</th>\n",
       "      <th class=\"col_heading level0 col5\" >confidence</th>\n",
       "      <th class=\"col_heading level0 col6\" >lift</th>\n",
       "      <th class=\"col_heading level0 col7\" >leverage</th>\n",
       "      <th class=\"col_heading level0 col8\" >conviction</th>\n",
       "    </tr>\n",
       "  </thead>\n",
       "  <tbody>\n",
       "    <tr>\n",
       "      <th id=\"T_78d20_level0_row0\" class=\"row_heading level0 row0\" >0</th>\n",
       "      <td id=\"T_78d20_row0_col0\" class=\"data row0 col0\" >frozenset({'Gladiator'})</td>\n",
       "      <td id=\"T_78d20_row0_col1\" class=\"data row0 col1\" >frozenset({'Sixth Sense'})</td>\n",
       "      <td id=\"T_78d20_row0_col2\" class=\"data row0 col2\" >0.700000</td>\n",
       "      <td id=\"T_78d20_row0_col3\" class=\"data row0 col3\" >0.600000</td>\n",
       "      <td id=\"T_78d20_row0_col4\" class=\"data row0 col4\" >0.500000</td>\n",
       "      <td id=\"T_78d20_row0_col5\" class=\"data row0 col5\" >0.714286</td>\n",
       "      <td id=\"T_78d20_row0_col6\" class=\"data row0 col6\" >1.190476</td>\n",
       "      <td id=\"T_78d20_row0_col7\" class=\"data row0 col7\" >0.080000</td>\n",
       "      <td id=\"T_78d20_row0_col8\" class=\"data row0 col8\" >1.400000</td>\n",
       "    </tr>\n",
       "    <tr>\n",
       "      <th id=\"T_78d20_level0_row1\" class=\"row_heading level0 row1\" >1</th>\n",
       "      <td id=\"T_78d20_row1_col0\" class=\"data row1 col0\" >frozenset({'Sixth Sense'})</td>\n",
       "      <td id=\"T_78d20_row1_col1\" class=\"data row1 col1\" >frozenset({'Gladiator'})</td>\n",
       "      <td id=\"T_78d20_row1_col2\" class=\"data row1 col2\" >0.600000</td>\n",
       "      <td id=\"T_78d20_row1_col3\" class=\"data row1 col3\" >0.700000</td>\n",
       "      <td id=\"T_78d20_row1_col4\" class=\"data row1 col4\" >0.500000</td>\n",
       "      <td id=\"T_78d20_row1_col5\" class=\"data row1 col5\" >0.833333</td>\n",
       "      <td id=\"T_78d20_row1_col6\" class=\"data row1 col6\" >1.190476</td>\n",
       "      <td id=\"T_78d20_row1_col7\" class=\"data row1 col7\" >0.080000</td>\n",
       "      <td id=\"T_78d20_row1_col8\" class=\"data row1 col8\" >1.800000</td>\n",
       "    </tr>\n",
       "    <tr>\n",
       "      <th id=\"T_78d20_level0_row2\" class=\"row_heading level0 row2\" >2</th>\n",
       "      <td id=\"T_78d20_row2_col0\" class=\"data row2 col0\" >frozenset({'Patriot'})</td>\n",
       "      <td id=\"T_78d20_row2_col1\" class=\"data row2 col1\" >frozenset({'Sixth Sense'})</td>\n",
       "      <td id=\"T_78d20_row2_col2\" class=\"data row2 col2\" >0.600000</td>\n",
       "      <td id=\"T_78d20_row2_col3\" class=\"data row2 col3\" >0.600000</td>\n",
       "      <td id=\"T_78d20_row2_col4\" class=\"data row2 col4\" >0.400000</td>\n",
       "      <td id=\"T_78d20_row2_col5\" class=\"data row2 col5\" >0.666667</td>\n",
       "      <td id=\"T_78d20_row2_col6\" class=\"data row2 col6\" >1.111111</td>\n",
       "      <td id=\"T_78d20_row2_col7\" class=\"data row2 col7\" >0.040000</td>\n",
       "      <td id=\"T_78d20_row2_col8\" class=\"data row2 col8\" >1.200000</td>\n",
       "    </tr>\n",
       "    <tr>\n",
       "      <th id=\"T_78d20_level0_row3\" class=\"row_heading level0 row3\" >3</th>\n",
       "      <td id=\"T_78d20_row3_col0\" class=\"data row3 col0\" >frozenset({'Sixth Sense'})</td>\n",
       "      <td id=\"T_78d20_row3_col1\" class=\"data row3 col1\" >frozenset({'Patriot'})</td>\n",
       "      <td id=\"T_78d20_row3_col2\" class=\"data row3 col2\" >0.600000</td>\n",
       "      <td id=\"T_78d20_row3_col3\" class=\"data row3 col3\" >0.600000</td>\n",
       "      <td id=\"T_78d20_row3_col4\" class=\"data row3 col4\" >0.400000</td>\n",
       "      <td id=\"T_78d20_row3_col5\" class=\"data row3 col5\" >0.666667</td>\n",
       "      <td id=\"T_78d20_row3_col6\" class=\"data row3 col6\" >1.111111</td>\n",
       "      <td id=\"T_78d20_row3_col7\" class=\"data row3 col7\" >0.040000</td>\n",
       "      <td id=\"T_78d20_row3_col8\" class=\"data row3 col8\" >1.200000</td>\n",
       "    </tr>\n",
       "    <tr>\n",
       "      <th id=\"T_78d20_level0_row4\" class=\"row_heading level0 row4\" >4</th>\n",
       "      <td id=\"T_78d20_row4_col0\" class=\"data row4 col0\" >frozenset({'LOTR'})</td>\n",
       "      <td id=\"T_78d20_row4_col1\" class=\"data row4 col1\" >frozenset({'Sixth Sense'})</td>\n",
       "      <td id=\"T_78d20_row4_col2\" class=\"data row4 col2\" >0.100000</td>\n",
       "      <td id=\"T_78d20_row4_col3\" class=\"data row4 col3\" >0.600000</td>\n",
       "      <td id=\"T_78d20_row4_col4\" class=\"data row4 col4\" >0.100000</td>\n",
       "      <td id=\"T_78d20_row4_col5\" class=\"data row4 col5\" >1.000000</td>\n",
       "      <td id=\"T_78d20_row4_col6\" class=\"data row4 col6\" >1.666667</td>\n",
       "      <td id=\"T_78d20_row4_col7\" class=\"data row4 col7\" >0.040000</td>\n",
       "      <td id=\"T_78d20_row4_col8\" class=\"data row4 col8\" >inf</td>\n",
       "    </tr>\n",
       "  </tbody>\n",
       "</table>\n"
      ],
      "text/plain": [
       "<pandas.io.formats.style.Styler at 0x1f9de302160>"
      ]
     },
     "execution_count": 66,
     "metadata": {},
     "output_type": "execute_result"
    }
   ],
   "source": [
    "df_asso_rules.head().style.background_gradient(cmap='Greens')"
   ]
  },
  {
   "cell_type": "code",
   "execution_count": 51,
   "metadata": {},
   "outputs": [
    {
     "data": {
      "application/vnd.plotly.v1+json": {
       "config": {
        "plotlyServerURL": "https://plot.ly"
       },
       "data": [
        {
         "hovertemplate": "conviction=%{x}<br>lift=%{y}<extra></extra>",
         "legendgroup": "",
         "marker": {
          "color": "#636efa",
          "symbol": "circle"
         },
         "mode": "markers",
         "name": "",
         "orientation": "v",
         "showlegend": false,
         "type": "scatter",
         "x": [
          1.4000000000000001,
          1.8000000000000007,
          1.2000000000000004,
          1.2000000000000004,
          null,
          1.08,
          null,
          1.2000000000000002,
          2.8000000000000016,
          null,
          1.05,
          null,
          1.05,
          null,
          1.6,
          1.6,
          null,
          null,
          1.6,
          1.6,
          1.6,
          1.6,
          null,
          1.8,
          1.6,
          1.6,
          1.08,
          null,
          1.6,
          1.6,
          1.8,
          null,
          1.2000000000000004,
          2.0000000000000004,
          null,
          1.4000000000000001,
          1.5000000000000004,
          1.2000000000000004,
          null,
          1.125,
          null,
          1.05,
          null,
          1.08,
          null,
          1,
          1,
          1.08,
          null,
          null,
          null,
          1.8,
          1.08,
          1.8,
          null,
          null,
          1.8,
          1.8,
          null,
          null,
          1.6,
          1.6,
          1.8,
          1.08,
          null,
          null,
          null,
          1.8,
          1.08,
          1.8,
          1.6,
          null,
          null,
          1.8,
          1.08,
          1.6,
          1.6,
          null,
          null,
          1.8,
          1.08,
          1.6,
          null,
          null,
          1.8,
          null,
          1.8,
          1.08,
          1.08,
          null,
          null,
          1.05,
          1.08,
          null,
          null,
          null,
          null,
          1.05,
          1.8,
          null,
          null,
          1.6,
          null,
          1.8,
          1.6,
          1.8,
          null,
          null,
          null,
          1.8,
          1.8,
          1.8,
          null,
          1.6,
          null,
          1.8,
          1.6,
          1.8,
          null,
          null,
          null,
          1.8,
          1.8,
          1.8,
          null,
          null,
          null,
          null,
          null,
          1.125,
          null,
          1.8,
          null,
          null,
          1.05,
          1.8,
          1.08,
          null,
          null,
          null,
          null,
          null,
          null,
          null,
          1.8,
          null,
          null,
          null,
          1.8,
          1.08,
          1.8,
          1.8,
          null,
          null,
          null,
          null,
          null,
          null,
          null,
          1.8,
          null,
          null,
          1.8,
          1.8,
          1.08,
          1.8,
          null,
          null,
          null,
          null,
          null,
          null,
          1.6,
          1.6,
          null,
          null,
          1.8,
          1.8,
          1.08,
          1.8,
          null,
          null,
          null,
          null,
          1.8,
          null,
          null,
          null,
          null,
          null,
          1.8,
          1.08,
          1.8,
          1.8,
          null,
          null,
          null,
          null,
          null,
          null,
          1.8,
          null,
          null,
          null,
          1.8,
          1.8,
          1.8,
          1.8
         ],
         "xaxis": "x",
         "y": [
          1.1904761904761905,
          1.1904761904761907,
          1.1111111111111114,
          1.1111111111111114,
          1.6666666666666667,
          1.6666666666666667,
          1.6666666666666667,
          1.6666666666666667,
          1.4285714285714288,
          1.4285714285714286,
          1.4285714285714286,
          1.4285714285714286,
          1.4285714285714286,
          1.4285714285714286,
          2.5,
          2.5,
          5,
          5,
          2.5,
          2.5,
          2.5,
          2.5,
          5,
          5,
          2.5,
          2.5,
          1.6666666666666667,
          1.6666666666666667,
          2.5,
          2.5,
          5,
          5,
          1.1111111111111114,
          1.3333333333333335,
          1.4285714285714286,
          1.4285714285714286,
          1.3333333333333335,
          1.1111111111111114,
          1.6666666666666667,
          2,
          1.4285714285714286,
          1.4285714285714286,
          2,
          1.6666666666666667,
          1.6666666666666667,
          1,
          1,
          1.6666666666666667,
          5,
          1.6666666666666667,
          5,
          5,
          1.6666666666666667,
          5,
          5,
          5,
          5,
          5,
          1.6666666666666667,
          5,
          2.5,
          2.5,
          5,
          1.6666666666666667,
          5,
          1.6666666666666667,
          5,
          5,
          1.6666666666666667,
          5,
          2.5,
          1.6666666666666667,
          5,
          5,
          1.6666666666666667,
          2.5,
          2.5,
          1.6666666666666667,
          5,
          5,
          1.6666666666666667,
          2.5,
          1.6666666666666667,
          5,
          5,
          5,
          5,
          1.6666666666666667,
          1.6666666666666667,
          1.6666666666666667,
          1.4285714285714286,
          1.4285714285714286,
          1.6666666666666667,
          1.6666666666666667,
          10,
          5,
          1.4285714285714286,
          1.4285714285714286,
          5,
          10,
          5,
          2.5,
          5,
          5,
          2.5,
          5,
          5,
          5,
          5,
          5,
          5,
          5,
          5,
          2.5,
          5,
          5,
          2.5,
          5,
          5,
          5,
          5,
          5,
          5,
          5,
          10,
          1.6666666666666667,
          5,
          1.4285714285714286,
          10,
          2,
          5,
          5,
          2,
          10,
          1.4285714285714286,
          5,
          1.6666666666666667,
          10,
          5,
          5,
          1.6666666666666667,
          5,
          10,
          10,
          5,
          5,
          10,
          10,
          5,
          1.6666666666666667,
          5,
          5,
          5,
          1.6666666666666667,
          5,
          5,
          10,
          10,
          5,
          5,
          10,
          10,
          5,
          5,
          1.6666666666666667,
          5,
          5,
          1.6666666666666667,
          5,
          5,
          10,
          10,
          2.5,
          2.5,
          10,
          10,
          5,
          5,
          1.6666666666666667,
          5,
          5,
          5,
          1.6666666666666667,
          5,
          5,
          10,
          10,
          10,
          10,
          5,
          5,
          1.6666666666666667,
          5,
          5,
          5,
          5,
          5,
          5,
          10,
          10,
          5,
          5,
          10,
          10,
          5,
          5,
          5,
          5
         ],
         "yaxis": "y"
        }
       ],
       "layout": {
        "legend": {
         "tracegroupgap": 0
        },
        "margin": {
         "t": 60
        },
        "template": {
         "data": {
          "bar": [
           {
            "error_x": {
             "color": "#2a3f5f"
            },
            "error_y": {
             "color": "#2a3f5f"
            },
            "marker": {
             "line": {
              "color": "#E5ECF6",
              "width": 0.5
             },
             "pattern": {
              "fillmode": "overlay",
              "size": 10,
              "solidity": 0.2
             }
            },
            "type": "bar"
           }
          ],
          "barpolar": [
           {
            "marker": {
             "line": {
              "color": "#E5ECF6",
              "width": 0.5
             },
             "pattern": {
              "fillmode": "overlay",
              "size": 10,
              "solidity": 0.2
             }
            },
            "type": "barpolar"
           }
          ],
          "carpet": [
           {
            "aaxis": {
             "endlinecolor": "#2a3f5f",
             "gridcolor": "white",
             "linecolor": "white",
             "minorgridcolor": "white",
             "startlinecolor": "#2a3f5f"
            },
            "baxis": {
             "endlinecolor": "#2a3f5f",
             "gridcolor": "white",
             "linecolor": "white",
             "minorgridcolor": "white",
             "startlinecolor": "#2a3f5f"
            },
            "type": "carpet"
           }
          ],
          "choropleth": [
           {
            "colorbar": {
             "outlinewidth": 0,
             "ticks": ""
            },
            "type": "choropleth"
           }
          ],
          "contour": [
           {
            "colorbar": {
             "outlinewidth": 0,
             "ticks": ""
            },
            "colorscale": [
             [
              0,
              "#0d0887"
             ],
             [
              0.1111111111111111,
              "#46039f"
             ],
             [
              0.2222222222222222,
              "#7201a8"
             ],
             [
              0.3333333333333333,
              "#9c179e"
             ],
             [
              0.4444444444444444,
              "#bd3786"
             ],
             [
              0.5555555555555556,
              "#d8576b"
             ],
             [
              0.6666666666666666,
              "#ed7953"
             ],
             [
              0.7777777777777778,
              "#fb9f3a"
             ],
             [
              0.8888888888888888,
              "#fdca26"
             ],
             [
              1,
              "#f0f921"
             ]
            ],
            "type": "contour"
           }
          ],
          "contourcarpet": [
           {
            "colorbar": {
             "outlinewidth": 0,
             "ticks": ""
            },
            "type": "contourcarpet"
           }
          ],
          "heatmap": [
           {
            "colorbar": {
             "outlinewidth": 0,
             "ticks": ""
            },
            "colorscale": [
             [
              0,
              "#0d0887"
             ],
             [
              0.1111111111111111,
              "#46039f"
             ],
             [
              0.2222222222222222,
              "#7201a8"
             ],
             [
              0.3333333333333333,
              "#9c179e"
             ],
             [
              0.4444444444444444,
              "#bd3786"
             ],
             [
              0.5555555555555556,
              "#d8576b"
             ],
             [
              0.6666666666666666,
              "#ed7953"
             ],
             [
              0.7777777777777778,
              "#fb9f3a"
             ],
             [
              0.8888888888888888,
              "#fdca26"
             ],
             [
              1,
              "#f0f921"
             ]
            ],
            "type": "heatmap"
           }
          ],
          "heatmapgl": [
           {
            "colorbar": {
             "outlinewidth": 0,
             "ticks": ""
            },
            "colorscale": [
             [
              0,
              "#0d0887"
             ],
             [
              0.1111111111111111,
              "#46039f"
             ],
             [
              0.2222222222222222,
              "#7201a8"
             ],
             [
              0.3333333333333333,
              "#9c179e"
             ],
             [
              0.4444444444444444,
              "#bd3786"
             ],
             [
              0.5555555555555556,
              "#d8576b"
             ],
             [
              0.6666666666666666,
              "#ed7953"
             ],
             [
              0.7777777777777778,
              "#fb9f3a"
             ],
             [
              0.8888888888888888,
              "#fdca26"
             ],
             [
              1,
              "#f0f921"
             ]
            ],
            "type": "heatmapgl"
           }
          ],
          "histogram": [
           {
            "marker": {
             "pattern": {
              "fillmode": "overlay",
              "size": 10,
              "solidity": 0.2
             }
            },
            "type": "histogram"
           }
          ],
          "histogram2d": [
           {
            "colorbar": {
             "outlinewidth": 0,
             "ticks": ""
            },
            "colorscale": [
             [
              0,
              "#0d0887"
             ],
             [
              0.1111111111111111,
              "#46039f"
             ],
             [
              0.2222222222222222,
              "#7201a8"
             ],
             [
              0.3333333333333333,
              "#9c179e"
             ],
             [
              0.4444444444444444,
              "#bd3786"
             ],
             [
              0.5555555555555556,
              "#d8576b"
             ],
             [
              0.6666666666666666,
              "#ed7953"
             ],
             [
              0.7777777777777778,
              "#fb9f3a"
             ],
             [
              0.8888888888888888,
              "#fdca26"
             ],
             [
              1,
              "#f0f921"
             ]
            ],
            "type": "histogram2d"
           }
          ],
          "histogram2dcontour": [
           {
            "colorbar": {
             "outlinewidth": 0,
             "ticks": ""
            },
            "colorscale": [
             [
              0,
              "#0d0887"
             ],
             [
              0.1111111111111111,
              "#46039f"
             ],
             [
              0.2222222222222222,
              "#7201a8"
             ],
             [
              0.3333333333333333,
              "#9c179e"
             ],
             [
              0.4444444444444444,
              "#bd3786"
             ],
             [
              0.5555555555555556,
              "#d8576b"
             ],
             [
              0.6666666666666666,
              "#ed7953"
             ],
             [
              0.7777777777777778,
              "#fb9f3a"
             ],
             [
              0.8888888888888888,
              "#fdca26"
             ],
             [
              1,
              "#f0f921"
             ]
            ],
            "type": "histogram2dcontour"
           }
          ],
          "mesh3d": [
           {
            "colorbar": {
             "outlinewidth": 0,
             "ticks": ""
            },
            "type": "mesh3d"
           }
          ],
          "parcoords": [
           {
            "line": {
             "colorbar": {
              "outlinewidth": 0,
              "ticks": ""
             }
            },
            "type": "parcoords"
           }
          ],
          "pie": [
           {
            "automargin": true,
            "type": "pie"
           }
          ],
          "scatter": [
           {
            "marker": {
             "colorbar": {
              "outlinewidth": 0,
              "ticks": ""
             }
            },
            "type": "scatter"
           }
          ],
          "scatter3d": [
           {
            "line": {
             "colorbar": {
              "outlinewidth": 0,
              "ticks": ""
             }
            },
            "marker": {
             "colorbar": {
              "outlinewidth": 0,
              "ticks": ""
             }
            },
            "type": "scatter3d"
           }
          ],
          "scattercarpet": [
           {
            "marker": {
             "colorbar": {
              "outlinewidth": 0,
              "ticks": ""
             }
            },
            "type": "scattercarpet"
           }
          ],
          "scattergeo": [
           {
            "marker": {
             "colorbar": {
              "outlinewidth": 0,
              "ticks": ""
             }
            },
            "type": "scattergeo"
           }
          ],
          "scattergl": [
           {
            "marker": {
             "colorbar": {
              "outlinewidth": 0,
              "ticks": ""
             }
            },
            "type": "scattergl"
           }
          ],
          "scattermapbox": [
           {
            "marker": {
             "colorbar": {
              "outlinewidth": 0,
              "ticks": ""
             }
            },
            "type": "scattermapbox"
           }
          ],
          "scatterpolar": [
           {
            "marker": {
             "colorbar": {
              "outlinewidth": 0,
              "ticks": ""
             }
            },
            "type": "scatterpolar"
           }
          ],
          "scatterpolargl": [
           {
            "marker": {
             "colorbar": {
              "outlinewidth": 0,
              "ticks": ""
             }
            },
            "type": "scatterpolargl"
           }
          ],
          "scatterternary": [
           {
            "marker": {
             "colorbar": {
              "outlinewidth": 0,
              "ticks": ""
             }
            },
            "type": "scatterternary"
           }
          ],
          "surface": [
           {
            "colorbar": {
             "outlinewidth": 0,
             "ticks": ""
            },
            "colorscale": [
             [
              0,
              "#0d0887"
             ],
             [
              0.1111111111111111,
              "#46039f"
             ],
             [
              0.2222222222222222,
              "#7201a8"
             ],
             [
              0.3333333333333333,
              "#9c179e"
             ],
             [
              0.4444444444444444,
              "#bd3786"
             ],
             [
              0.5555555555555556,
              "#d8576b"
             ],
             [
              0.6666666666666666,
              "#ed7953"
             ],
             [
              0.7777777777777778,
              "#fb9f3a"
             ],
             [
              0.8888888888888888,
              "#fdca26"
             ],
             [
              1,
              "#f0f921"
             ]
            ],
            "type": "surface"
           }
          ],
          "table": [
           {
            "cells": {
             "fill": {
              "color": "#EBF0F8"
             },
             "line": {
              "color": "white"
             }
            },
            "header": {
             "fill": {
              "color": "#C8D4E3"
             },
             "line": {
              "color": "white"
             }
            },
            "type": "table"
           }
          ]
         },
         "layout": {
          "annotationdefaults": {
           "arrowcolor": "#2a3f5f",
           "arrowhead": 0,
           "arrowwidth": 1
          },
          "autotypenumbers": "strict",
          "coloraxis": {
           "colorbar": {
            "outlinewidth": 0,
            "ticks": ""
           }
          },
          "colorscale": {
           "diverging": [
            [
             0,
             "#8e0152"
            ],
            [
             0.1,
             "#c51b7d"
            ],
            [
             0.2,
             "#de77ae"
            ],
            [
             0.3,
             "#f1b6da"
            ],
            [
             0.4,
             "#fde0ef"
            ],
            [
             0.5,
             "#f7f7f7"
            ],
            [
             0.6,
             "#e6f5d0"
            ],
            [
             0.7,
             "#b8e186"
            ],
            [
             0.8,
             "#7fbc41"
            ],
            [
             0.9,
             "#4d9221"
            ],
            [
             1,
             "#276419"
            ]
           ],
           "sequential": [
            [
             0,
             "#0d0887"
            ],
            [
             0.1111111111111111,
             "#46039f"
            ],
            [
             0.2222222222222222,
             "#7201a8"
            ],
            [
             0.3333333333333333,
             "#9c179e"
            ],
            [
             0.4444444444444444,
             "#bd3786"
            ],
            [
             0.5555555555555556,
             "#d8576b"
            ],
            [
             0.6666666666666666,
             "#ed7953"
            ],
            [
             0.7777777777777778,
             "#fb9f3a"
            ],
            [
             0.8888888888888888,
             "#fdca26"
            ],
            [
             1,
             "#f0f921"
            ]
           ],
           "sequentialminus": [
            [
             0,
             "#0d0887"
            ],
            [
             0.1111111111111111,
             "#46039f"
            ],
            [
             0.2222222222222222,
             "#7201a8"
            ],
            [
             0.3333333333333333,
             "#9c179e"
            ],
            [
             0.4444444444444444,
             "#bd3786"
            ],
            [
             0.5555555555555556,
             "#d8576b"
            ],
            [
             0.6666666666666666,
             "#ed7953"
            ],
            [
             0.7777777777777778,
             "#fb9f3a"
            ],
            [
             0.8888888888888888,
             "#fdca26"
            ],
            [
             1,
             "#f0f921"
            ]
           ]
          },
          "colorway": [
           "#636efa",
           "#EF553B",
           "#00cc96",
           "#ab63fa",
           "#FFA15A",
           "#19d3f3",
           "#FF6692",
           "#B6E880",
           "#FF97FF",
           "#FECB52"
          ],
          "font": {
           "color": "#2a3f5f"
          },
          "geo": {
           "bgcolor": "white",
           "lakecolor": "white",
           "landcolor": "#E5ECF6",
           "showlakes": true,
           "showland": true,
           "subunitcolor": "white"
          },
          "hoverlabel": {
           "align": "left"
          },
          "hovermode": "closest",
          "mapbox": {
           "style": "light"
          },
          "paper_bgcolor": "white",
          "plot_bgcolor": "#E5ECF6",
          "polar": {
           "angularaxis": {
            "gridcolor": "white",
            "linecolor": "white",
            "ticks": ""
           },
           "bgcolor": "#E5ECF6",
           "radialaxis": {
            "gridcolor": "white",
            "linecolor": "white",
            "ticks": ""
           }
          },
          "scene": {
           "xaxis": {
            "backgroundcolor": "#E5ECF6",
            "gridcolor": "white",
            "gridwidth": 2,
            "linecolor": "white",
            "showbackground": true,
            "ticks": "",
            "zerolinecolor": "white"
           },
           "yaxis": {
            "backgroundcolor": "#E5ECF6",
            "gridcolor": "white",
            "gridwidth": 2,
            "linecolor": "white",
            "showbackground": true,
            "ticks": "",
            "zerolinecolor": "white"
           },
           "zaxis": {
            "backgroundcolor": "#E5ECF6",
            "gridcolor": "white",
            "gridwidth": 2,
            "linecolor": "white",
            "showbackground": true,
            "ticks": "",
            "zerolinecolor": "white"
           }
          },
          "shapedefaults": {
           "line": {
            "color": "#2a3f5f"
           }
          },
          "ternary": {
           "aaxis": {
            "gridcolor": "white",
            "linecolor": "white",
            "ticks": ""
           },
           "baxis": {
            "gridcolor": "white",
            "linecolor": "white",
            "ticks": ""
           },
           "bgcolor": "#E5ECF6",
           "caxis": {
            "gridcolor": "white",
            "linecolor": "white",
            "ticks": ""
           }
          },
          "title": {
           "x": 0.05
          },
          "xaxis": {
           "automargin": true,
           "gridcolor": "white",
           "linecolor": "white",
           "ticks": "",
           "title": {
            "standoff": 15
           },
           "zerolinecolor": "white",
           "zerolinewidth": 2
          },
          "yaxis": {
           "automargin": true,
           "gridcolor": "white",
           "linecolor": "white",
           "ticks": "",
           "title": {
            "standoff": 15
           },
           "zerolinecolor": "white",
           "zerolinewidth": 2
          }
         }
        },
        "xaxis": {
         "anchor": "y",
         "domain": [
          0,
          1
         ],
         "title": {
          "text": "conviction"
         }
        },
        "yaxis": {
         "anchor": "x",
         "domain": [
          0,
          1
         ],
         "title": {
          "text": "lift"
         }
        }
       }
      },
      "text/html": [
       "<div>                            <div id=\"4e77df5a-e853-48b4-b118-d8b87dff6b8f\" class=\"plotly-graph-div\" style=\"height:525px; width:100%;\"></div>            <script type=\"text/javascript\">                require([\"plotly\"], function(Plotly) {                    window.PLOTLYENV=window.PLOTLYENV || {};                                    if (document.getElementById(\"4e77df5a-e853-48b4-b118-d8b87dff6b8f\")) {                    Plotly.newPlot(                        \"4e77df5a-e853-48b4-b118-d8b87dff6b8f\",                        [{\"hovertemplate\":\"conviction=%{x}<br>lift=%{y}<extra></extra>\",\"legendgroup\":\"\",\"marker\":{\"color\":\"#636efa\",\"symbol\":\"circle\"},\"mode\":\"markers\",\"name\":\"\",\"orientation\":\"v\",\"showlegend\":false,\"x\":[1.4000000000000001,1.8000000000000007,1.2000000000000004,1.2000000000000004,null,1.08,null,1.2000000000000002,2.8000000000000016,null,1.05,null,1.05,null,1.6,1.6,null,null,1.6,1.6,1.6,1.6,null,1.8,1.6,1.6,1.08,null,1.6,1.6,1.8,null,1.2000000000000004,2.0000000000000004,null,1.4000000000000001,1.5000000000000004,1.2000000000000004,null,1.125,null,1.05,null,1.08,null,1.0,1.0,1.08,null,null,null,1.8,1.08,1.8,null,null,1.8,1.8,null,null,1.6,1.6,1.8,1.08,null,null,null,1.8,1.08,1.8,1.6,null,null,1.8,1.08,1.6,1.6,null,null,1.8,1.08,1.6,null,null,1.8,null,1.8,1.08,1.08,null,null,1.05,1.08,null,null,null,null,1.05,1.8,null,null,1.6,null,1.8,1.6,1.8,null,null,null,1.8,1.8,1.8,null,1.6,null,1.8,1.6,1.8,null,null,null,1.8,1.8,1.8,null,null,null,null,null,1.125,null,1.8,null,null,1.05,1.8,1.08,null,null,null,null,null,null,null,1.8,null,null,null,1.8,1.08,1.8,1.8,null,null,null,null,null,null,null,1.8,null,null,1.8,1.8,1.08,1.8,null,null,null,null,null,null,1.6,1.6,null,null,1.8,1.8,1.08,1.8,null,null,null,null,1.8,null,null,null,null,null,1.8,1.08,1.8,1.8,null,null,null,null,null,null,1.8,null,null,null,1.8,1.8,1.8,1.8],\"xaxis\":\"x\",\"y\":[1.1904761904761905,1.1904761904761907,1.1111111111111114,1.1111111111111114,1.6666666666666667,1.6666666666666667,1.6666666666666667,1.6666666666666667,1.4285714285714288,1.4285714285714286,1.4285714285714286,1.4285714285714286,1.4285714285714286,1.4285714285714286,2.5,2.5,5.0,5.0,2.5,2.5,2.5,2.5,5.0,5.0,2.5,2.5,1.6666666666666667,1.6666666666666667,2.5,2.5,5.0,5.0,1.1111111111111114,1.3333333333333335,1.4285714285714286,1.4285714285714286,1.3333333333333335,1.1111111111111114,1.6666666666666667,2.0,1.4285714285714286,1.4285714285714286,2.0,1.6666666666666667,1.6666666666666667,1.0,1.0,1.6666666666666667,5.0,1.6666666666666667,5.0,5.0,1.6666666666666667,5.0,5.0,5.0,5.0,5.0,1.6666666666666667,5.0,2.5,2.5,5.0,1.6666666666666667,5.0,1.6666666666666667,5.0,5.0,1.6666666666666667,5.0,2.5,1.6666666666666667,5.0,5.0,1.6666666666666667,2.5,2.5,1.6666666666666667,5.0,5.0,1.6666666666666667,2.5,1.6666666666666667,5.0,5.0,5.0,5.0,1.6666666666666667,1.6666666666666667,1.6666666666666667,1.4285714285714286,1.4285714285714286,1.6666666666666667,1.6666666666666667,10.0,5.0,1.4285714285714286,1.4285714285714286,5.0,10.0,5.0,2.5,5.0,5.0,2.5,5.0,5.0,5.0,5.0,5.0,5.0,5.0,5.0,2.5,5.0,5.0,2.5,5.0,5.0,5.0,5.0,5.0,5.0,5.0,10.0,1.6666666666666667,5.0,1.4285714285714286,10.0,2.0,5.0,5.0,2.0,10.0,1.4285714285714286,5.0,1.6666666666666667,10.0,5.0,5.0,1.6666666666666667,5.0,10.0,10.0,5.0,5.0,10.0,10.0,5.0,1.6666666666666667,5.0,5.0,5.0,1.6666666666666667,5.0,5.0,10.0,10.0,5.0,5.0,10.0,10.0,5.0,5.0,1.6666666666666667,5.0,5.0,1.6666666666666667,5.0,5.0,10.0,10.0,2.5,2.5,10.0,10.0,5.0,5.0,1.6666666666666667,5.0,5.0,5.0,1.6666666666666667,5.0,5.0,10.0,10.0,10.0,10.0,5.0,5.0,1.6666666666666667,5.0,5.0,5.0,5.0,5.0,5.0,10.0,10.0,5.0,5.0,10.0,10.0,5.0,5.0,5.0,5.0],\"yaxis\":\"y\",\"type\":\"scatter\"}],                        {\"template\":{\"data\":{\"bar\":[{\"error_x\":{\"color\":\"#2a3f5f\"},\"error_y\":{\"color\":\"#2a3f5f\"},\"marker\":{\"line\":{\"color\":\"#E5ECF6\",\"width\":0.5},\"pattern\":{\"fillmode\":\"overlay\",\"size\":10,\"solidity\":0.2}},\"type\":\"bar\"}],\"barpolar\":[{\"marker\":{\"line\":{\"color\":\"#E5ECF6\",\"width\":0.5},\"pattern\":{\"fillmode\":\"overlay\",\"size\":10,\"solidity\":0.2}},\"type\":\"barpolar\"}],\"carpet\":[{\"aaxis\":{\"endlinecolor\":\"#2a3f5f\",\"gridcolor\":\"white\",\"linecolor\":\"white\",\"minorgridcolor\":\"white\",\"startlinecolor\":\"#2a3f5f\"},\"baxis\":{\"endlinecolor\":\"#2a3f5f\",\"gridcolor\":\"white\",\"linecolor\":\"white\",\"minorgridcolor\":\"white\",\"startlinecolor\":\"#2a3f5f\"},\"type\":\"carpet\"}],\"choropleth\":[{\"colorbar\":{\"outlinewidth\":0,\"ticks\":\"\"},\"type\":\"choropleth\"}],\"contour\":[{\"colorbar\":{\"outlinewidth\":0,\"ticks\":\"\"},\"colorscale\":[[0.0,\"#0d0887\"],[0.1111111111111111,\"#46039f\"],[0.2222222222222222,\"#7201a8\"],[0.3333333333333333,\"#9c179e\"],[0.4444444444444444,\"#bd3786\"],[0.5555555555555556,\"#d8576b\"],[0.6666666666666666,\"#ed7953\"],[0.7777777777777778,\"#fb9f3a\"],[0.8888888888888888,\"#fdca26\"],[1.0,\"#f0f921\"]],\"type\":\"contour\"}],\"contourcarpet\":[{\"colorbar\":{\"outlinewidth\":0,\"ticks\":\"\"},\"type\":\"contourcarpet\"}],\"heatmap\":[{\"colorbar\":{\"outlinewidth\":0,\"ticks\":\"\"},\"colorscale\":[[0.0,\"#0d0887\"],[0.1111111111111111,\"#46039f\"],[0.2222222222222222,\"#7201a8\"],[0.3333333333333333,\"#9c179e\"],[0.4444444444444444,\"#bd3786\"],[0.5555555555555556,\"#d8576b\"],[0.6666666666666666,\"#ed7953\"],[0.7777777777777778,\"#fb9f3a\"],[0.8888888888888888,\"#fdca26\"],[1.0,\"#f0f921\"]],\"type\":\"heatmap\"}],\"heatmapgl\":[{\"colorbar\":{\"outlinewidth\":0,\"ticks\":\"\"},\"colorscale\":[[0.0,\"#0d0887\"],[0.1111111111111111,\"#46039f\"],[0.2222222222222222,\"#7201a8\"],[0.3333333333333333,\"#9c179e\"],[0.4444444444444444,\"#bd3786\"],[0.5555555555555556,\"#d8576b\"],[0.6666666666666666,\"#ed7953\"],[0.7777777777777778,\"#fb9f3a\"],[0.8888888888888888,\"#fdca26\"],[1.0,\"#f0f921\"]],\"type\":\"heatmapgl\"}],\"histogram\":[{\"marker\":{\"pattern\":{\"fillmode\":\"overlay\",\"size\":10,\"solidity\":0.2}},\"type\":\"histogram\"}],\"histogram2d\":[{\"colorbar\":{\"outlinewidth\":0,\"ticks\":\"\"},\"colorscale\":[[0.0,\"#0d0887\"],[0.1111111111111111,\"#46039f\"],[0.2222222222222222,\"#7201a8\"],[0.3333333333333333,\"#9c179e\"],[0.4444444444444444,\"#bd3786\"],[0.5555555555555556,\"#d8576b\"],[0.6666666666666666,\"#ed7953\"],[0.7777777777777778,\"#fb9f3a\"],[0.8888888888888888,\"#fdca26\"],[1.0,\"#f0f921\"]],\"type\":\"histogram2d\"}],\"histogram2dcontour\":[{\"colorbar\":{\"outlinewidth\":0,\"ticks\":\"\"},\"colorscale\":[[0.0,\"#0d0887\"],[0.1111111111111111,\"#46039f\"],[0.2222222222222222,\"#7201a8\"],[0.3333333333333333,\"#9c179e\"],[0.4444444444444444,\"#bd3786\"],[0.5555555555555556,\"#d8576b\"],[0.6666666666666666,\"#ed7953\"],[0.7777777777777778,\"#fb9f3a\"],[0.8888888888888888,\"#fdca26\"],[1.0,\"#f0f921\"]],\"type\":\"histogram2dcontour\"}],\"mesh3d\":[{\"colorbar\":{\"outlinewidth\":0,\"ticks\":\"\"},\"type\":\"mesh3d\"}],\"parcoords\":[{\"line\":{\"colorbar\":{\"outlinewidth\":0,\"ticks\":\"\"}},\"type\":\"parcoords\"}],\"pie\":[{\"automargin\":true,\"type\":\"pie\"}],\"scatter\":[{\"marker\":{\"colorbar\":{\"outlinewidth\":0,\"ticks\":\"\"}},\"type\":\"scatter\"}],\"scatter3d\":[{\"line\":{\"colorbar\":{\"outlinewidth\":0,\"ticks\":\"\"}},\"marker\":{\"colorbar\":{\"outlinewidth\":0,\"ticks\":\"\"}},\"type\":\"scatter3d\"}],\"scattercarpet\":[{\"marker\":{\"colorbar\":{\"outlinewidth\":0,\"ticks\":\"\"}},\"type\":\"scattercarpet\"}],\"scattergeo\":[{\"marker\":{\"colorbar\":{\"outlinewidth\":0,\"ticks\":\"\"}},\"type\":\"scattergeo\"}],\"scattergl\":[{\"marker\":{\"colorbar\":{\"outlinewidth\":0,\"ticks\":\"\"}},\"type\":\"scattergl\"}],\"scattermapbox\":[{\"marker\":{\"colorbar\":{\"outlinewidth\":0,\"ticks\":\"\"}},\"type\":\"scattermapbox\"}],\"scatterpolar\":[{\"marker\":{\"colorbar\":{\"outlinewidth\":0,\"ticks\":\"\"}},\"type\":\"scatterpolar\"}],\"scatterpolargl\":[{\"marker\":{\"colorbar\":{\"outlinewidth\":0,\"ticks\":\"\"}},\"type\":\"scatterpolargl\"}],\"scatterternary\":[{\"marker\":{\"colorbar\":{\"outlinewidth\":0,\"ticks\":\"\"}},\"type\":\"scatterternary\"}],\"surface\":[{\"colorbar\":{\"outlinewidth\":0,\"ticks\":\"\"},\"colorscale\":[[0.0,\"#0d0887\"],[0.1111111111111111,\"#46039f\"],[0.2222222222222222,\"#7201a8\"],[0.3333333333333333,\"#9c179e\"],[0.4444444444444444,\"#bd3786\"],[0.5555555555555556,\"#d8576b\"],[0.6666666666666666,\"#ed7953\"],[0.7777777777777778,\"#fb9f3a\"],[0.8888888888888888,\"#fdca26\"],[1.0,\"#f0f921\"]],\"type\":\"surface\"}],\"table\":[{\"cells\":{\"fill\":{\"color\":\"#EBF0F8\"},\"line\":{\"color\":\"white\"}},\"header\":{\"fill\":{\"color\":\"#C8D4E3\"},\"line\":{\"color\":\"white\"}},\"type\":\"table\"}]},\"layout\":{\"annotationdefaults\":{\"arrowcolor\":\"#2a3f5f\",\"arrowhead\":0,\"arrowwidth\":1},\"autotypenumbers\":\"strict\",\"coloraxis\":{\"colorbar\":{\"outlinewidth\":0,\"ticks\":\"\"}},\"colorscale\":{\"diverging\":[[0,\"#8e0152\"],[0.1,\"#c51b7d\"],[0.2,\"#de77ae\"],[0.3,\"#f1b6da\"],[0.4,\"#fde0ef\"],[0.5,\"#f7f7f7\"],[0.6,\"#e6f5d0\"],[0.7,\"#b8e186\"],[0.8,\"#7fbc41\"],[0.9,\"#4d9221\"],[1,\"#276419\"]],\"sequential\":[[0.0,\"#0d0887\"],[0.1111111111111111,\"#46039f\"],[0.2222222222222222,\"#7201a8\"],[0.3333333333333333,\"#9c179e\"],[0.4444444444444444,\"#bd3786\"],[0.5555555555555556,\"#d8576b\"],[0.6666666666666666,\"#ed7953\"],[0.7777777777777778,\"#fb9f3a\"],[0.8888888888888888,\"#fdca26\"],[1.0,\"#f0f921\"]],\"sequentialminus\":[[0.0,\"#0d0887\"],[0.1111111111111111,\"#46039f\"],[0.2222222222222222,\"#7201a8\"],[0.3333333333333333,\"#9c179e\"],[0.4444444444444444,\"#bd3786\"],[0.5555555555555556,\"#d8576b\"],[0.6666666666666666,\"#ed7953\"],[0.7777777777777778,\"#fb9f3a\"],[0.8888888888888888,\"#fdca26\"],[1.0,\"#f0f921\"]]},\"colorway\":[\"#636efa\",\"#EF553B\",\"#00cc96\",\"#ab63fa\",\"#FFA15A\",\"#19d3f3\",\"#FF6692\",\"#B6E880\",\"#FF97FF\",\"#FECB52\"],\"font\":{\"color\":\"#2a3f5f\"},\"geo\":{\"bgcolor\":\"white\",\"lakecolor\":\"white\",\"landcolor\":\"#E5ECF6\",\"showlakes\":true,\"showland\":true,\"subunitcolor\":\"white\"},\"hoverlabel\":{\"align\":\"left\"},\"hovermode\":\"closest\",\"mapbox\":{\"style\":\"light\"},\"paper_bgcolor\":\"white\",\"plot_bgcolor\":\"#E5ECF6\",\"polar\":{\"angularaxis\":{\"gridcolor\":\"white\",\"linecolor\":\"white\",\"ticks\":\"\"},\"bgcolor\":\"#E5ECF6\",\"radialaxis\":{\"gridcolor\":\"white\",\"linecolor\":\"white\",\"ticks\":\"\"}},\"scene\":{\"xaxis\":{\"backgroundcolor\":\"#E5ECF6\",\"gridcolor\":\"white\",\"gridwidth\":2,\"linecolor\":\"white\",\"showbackground\":true,\"ticks\":\"\",\"zerolinecolor\":\"white\"},\"yaxis\":{\"backgroundcolor\":\"#E5ECF6\",\"gridcolor\":\"white\",\"gridwidth\":2,\"linecolor\":\"white\",\"showbackground\":true,\"ticks\":\"\",\"zerolinecolor\":\"white\"},\"zaxis\":{\"backgroundcolor\":\"#E5ECF6\",\"gridcolor\":\"white\",\"gridwidth\":2,\"linecolor\":\"white\",\"showbackground\":true,\"ticks\":\"\",\"zerolinecolor\":\"white\"}},\"shapedefaults\":{\"line\":{\"color\":\"#2a3f5f\"}},\"ternary\":{\"aaxis\":{\"gridcolor\":\"white\",\"linecolor\":\"white\",\"ticks\":\"\"},\"baxis\":{\"gridcolor\":\"white\",\"linecolor\":\"white\",\"ticks\":\"\"},\"bgcolor\":\"#E5ECF6\",\"caxis\":{\"gridcolor\":\"white\",\"linecolor\":\"white\",\"ticks\":\"\"}},\"title\":{\"x\":0.05},\"xaxis\":{\"automargin\":true,\"gridcolor\":\"white\",\"linecolor\":\"white\",\"ticks\":\"\",\"title\":{\"standoff\":15},\"zerolinecolor\":\"white\",\"zerolinewidth\":2},\"yaxis\":{\"automargin\":true,\"gridcolor\":\"white\",\"linecolor\":\"white\",\"ticks\":\"\",\"title\":{\"standoff\":15},\"zerolinecolor\":\"white\",\"zerolinewidth\":2}}},\"xaxis\":{\"anchor\":\"y\",\"domain\":[0.0,1.0],\"title\":{\"text\":\"conviction\"}},\"yaxis\":{\"anchor\":\"x\",\"domain\":[0.0,1.0],\"title\":{\"text\":\"lift\"}},\"legend\":{\"tracegroupgap\":0},\"margin\":{\"t\":60}},                        {\"responsive\": true}                    ).then(function(){\n",
       "                            \n",
       "var gd = document.getElementById('4e77df5a-e853-48b4-b118-d8b87dff6b8f');\n",
       "var x = new MutationObserver(function (mutations, observer) {{\n",
       "        var display = window.getComputedStyle(gd).display;\n",
       "        if (!display || display === 'none') {{\n",
       "            console.log([gd, 'removed!']);\n",
       "            Plotly.purge(gd);\n",
       "            observer.disconnect();\n",
       "        }}\n",
       "}});\n",
       "\n",
       "// Listen for the removal of the full notebook cells\n",
       "var notebookContainer = gd.closest('#notebook-container');\n",
       "if (notebookContainer) {{\n",
       "    x.observe(notebookContainer, {childList: true});\n",
       "}}\n",
       "\n",
       "// Listen for the clearing of the current output cell\n",
       "var outputEl = gd.closest('.output');\n",
       "if (outputEl) {{\n",
       "    x.observe(outputEl, {childList: true});\n",
       "}}\n",
       "\n",
       "                        })                };                });            </script>        </div>"
      ]
     },
     "metadata": {},
     "output_type": "display_data"
    }
   ],
   "source": [
    "px.scatter(df_asso_rules.iloc[:,2:],x='conviction',y='lift')"
   ]
  },
  {
   "cell_type": "code",
   "execution_count": 52,
   "metadata": {},
   "outputs": [
    {
     "data": {
      "application/vnd.plotly.v1+json": {
       "config": {
        "plotlyServerURL": "https://plot.ly"
       },
       "data": [
        {
         "hovertemplate": "support=%{x}<br>confidence=%{y}<extra></extra>",
         "legendgroup": "",
         "marker": {
          "color": "#636efa",
          "symbol": "circle"
         },
         "mode": "markers",
         "name": "",
         "orientation": "v",
         "showlegend": false,
         "type": "scatter",
         "x": [
          0.5,
          0.5,
          0.4,
          0.4,
          0.1,
          0.1,
          0.2,
          0.2,
          0.6,
          0.6,
          0.1,
          0.1,
          0.1,
          0.1,
          0.1,
          0.1,
          0.2,
          0.2,
          0.1,
          0.1,
          0.1,
          0.1,
          0.1,
          0.1,
          0.1,
          0.1,
          0.1,
          0.1,
          0.1,
          0.1,
          0.1,
          0.1,
          0.4,
          0.4,
          0.4,
          0.4,
          0.4,
          0.4,
          0.1,
          0.1,
          0.1,
          0.1,
          0.1,
          0.1,
          0.1,
          0.1,
          0.1,
          0.1,
          0.1,
          0.1,
          0.1,
          0.1,
          0.1,
          0.1,
          0.1,
          0.1,
          0.1,
          0.1,
          0.1,
          0.1,
          0.1,
          0.1,
          0.1,
          0.1,
          0.1,
          0.1,
          0.1,
          0.1,
          0.1,
          0.1,
          0.1,
          0.1,
          0.1,
          0.1,
          0.1,
          0.1,
          0.1,
          0.1,
          0.1,
          0.1,
          0.1,
          0.1,
          0.1,
          0.1,
          0.1,
          0.1,
          0.1,
          0.1,
          0.1,
          0.1,
          0.1,
          0.1,
          0.1,
          0.1,
          0.1,
          0.1,
          0.1,
          0.1,
          0.1,
          0.1,
          0.1,
          0.1,
          0.1,
          0.1,
          0.1,
          0.1,
          0.1,
          0.1,
          0.1,
          0.1,
          0.1,
          0.1,
          0.1,
          0.1,
          0.1,
          0.1,
          0.1,
          0.1,
          0.1,
          0.1,
          0.1,
          0.1,
          0.1,
          0.1,
          0.1,
          0.1,
          0.1,
          0.1,
          0.1,
          0.1,
          0.1,
          0.1,
          0.1,
          0.1,
          0.1,
          0.1,
          0.1,
          0.1,
          0.1,
          0.1,
          0.1,
          0.1,
          0.1,
          0.1,
          0.1,
          0.1,
          0.1,
          0.1,
          0.1,
          0.1,
          0.1,
          0.1,
          0.1,
          0.1,
          0.1,
          0.1,
          0.1,
          0.1,
          0.1,
          0.1,
          0.1,
          0.1,
          0.1,
          0.1,
          0.1,
          0.1,
          0.1,
          0.1,
          0.1,
          0.1,
          0.1,
          0.1,
          0.1,
          0.1,
          0.1,
          0.1,
          0.1,
          0.1,
          0.1,
          0.1,
          0.1,
          0.1,
          0.1,
          0.1,
          0.1,
          0.1,
          0.1,
          0.1,
          0.1,
          0.1,
          0.1,
          0.1,
          0.1,
          0.1,
          0.1,
          0.1,
          0.1,
          0.1,
          0.1,
          0.1,
          0.1,
          0.1,
          0.1,
          0.1,
          0.1,
          0.1,
          0.1,
          0.1
         ],
         "xaxis": "x",
         "y": [
          0.7142857142857143,
          0.8333333333333334,
          0.6666666666666667,
          0.6666666666666667,
          1,
          0.16666666666666669,
          1,
          0.33333333333333337,
          0.8571428571428572,
          1,
          0.14285714285714288,
          1,
          0.14285714285714288,
          1,
          0.5,
          0.5,
          1,
          1,
          0.5,
          0.5,
          0.5,
          0.5,
          1,
          0.5,
          0.5,
          0.5,
          0.16666666666666669,
          1,
          0.5,
          0.5,
          0.5,
          1,
          0.6666666666666667,
          0.8,
          1,
          0.5714285714285715,
          0.6666666666666667,
          0.6666666666666667,
          1,
          0.2,
          1,
          0.14285714285714288,
          1,
          0.16666666666666669,
          1,
          0.2,
          0.5,
          0.16666666666666669,
          1,
          1,
          1,
          0.5,
          0.16666666666666669,
          0.5,
          1,
          1,
          0.5,
          0.5,
          1,
          1,
          0.5,
          0.5,
          0.5,
          0.16666666666666669,
          1,
          1,
          1,
          0.5,
          0.16666666666666669,
          0.5,
          0.5,
          1,
          1,
          0.5,
          0.16666666666666669,
          0.5,
          0.5,
          1,
          1,
          0.5,
          0.16666666666666669,
          0.5,
          1,
          1,
          0.5,
          1,
          0.5,
          0.16666666666666669,
          0.16666666666666669,
          1,
          1,
          0.14285714285714288,
          0.16666666666666669,
          1,
          1,
          1,
          1,
          0.14285714285714288,
          0.5,
          1,
          1,
          0.5,
          1,
          0.5,
          0.5,
          0.5,
          1,
          1,
          1,
          0.5,
          0.5,
          0.5,
          1,
          0.5,
          1,
          0.5,
          0.5,
          0.5,
          1,
          1,
          1,
          0.5,
          0.5,
          0.5,
          1,
          1,
          1,
          1,
          1,
          0.2,
          1,
          0.5,
          1,
          1,
          0.14285714285714288,
          0.5,
          0.16666666666666669,
          1,
          1,
          1,
          1,
          1,
          1,
          1,
          0.5,
          1,
          1,
          1,
          0.5,
          0.16666666666666669,
          0.5,
          0.5,
          1,
          1,
          1,
          1,
          1,
          1,
          1,
          0.5,
          1,
          1,
          0.5,
          0.5,
          0.16666666666666669,
          0.5,
          1,
          1,
          1,
          1,
          1,
          1,
          0.5,
          0.5,
          1,
          1,
          0.5,
          0.5,
          0.16666666666666669,
          0.5,
          1,
          1,
          1,
          1,
          0.5,
          1,
          1,
          1,
          1,
          1,
          0.5,
          0.16666666666666669,
          0.5,
          0.5,
          1,
          1,
          1,
          1,
          1,
          1,
          0.5,
          1,
          1,
          1,
          0.5,
          0.5,
          0.5,
          0.5
         ],
         "yaxis": "y"
        }
       ],
       "layout": {
        "legend": {
         "tracegroupgap": 0
        },
        "margin": {
         "t": 60
        },
        "template": {
         "data": {
          "bar": [
           {
            "error_x": {
             "color": "#2a3f5f"
            },
            "error_y": {
             "color": "#2a3f5f"
            },
            "marker": {
             "line": {
              "color": "#E5ECF6",
              "width": 0.5
             },
             "pattern": {
              "fillmode": "overlay",
              "size": 10,
              "solidity": 0.2
             }
            },
            "type": "bar"
           }
          ],
          "barpolar": [
           {
            "marker": {
             "line": {
              "color": "#E5ECF6",
              "width": 0.5
             },
             "pattern": {
              "fillmode": "overlay",
              "size": 10,
              "solidity": 0.2
             }
            },
            "type": "barpolar"
           }
          ],
          "carpet": [
           {
            "aaxis": {
             "endlinecolor": "#2a3f5f",
             "gridcolor": "white",
             "linecolor": "white",
             "minorgridcolor": "white",
             "startlinecolor": "#2a3f5f"
            },
            "baxis": {
             "endlinecolor": "#2a3f5f",
             "gridcolor": "white",
             "linecolor": "white",
             "minorgridcolor": "white",
             "startlinecolor": "#2a3f5f"
            },
            "type": "carpet"
           }
          ],
          "choropleth": [
           {
            "colorbar": {
             "outlinewidth": 0,
             "ticks": ""
            },
            "type": "choropleth"
           }
          ],
          "contour": [
           {
            "colorbar": {
             "outlinewidth": 0,
             "ticks": ""
            },
            "colorscale": [
             [
              0,
              "#0d0887"
             ],
             [
              0.1111111111111111,
              "#46039f"
             ],
             [
              0.2222222222222222,
              "#7201a8"
             ],
             [
              0.3333333333333333,
              "#9c179e"
             ],
             [
              0.4444444444444444,
              "#bd3786"
             ],
             [
              0.5555555555555556,
              "#d8576b"
             ],
             [
              0.6666666666666666,
              "#ed7953"
             ],
             [
              0.7777777777777778,
              "#fb9f3a"
             ],
             [
              0.8888888888888888,
              "#fdca26"
             ],
             [
              1,
              "#f0f921"
             ]
            ],
            "type": "contour"
           }
          ],
          "contourcarpet": [
           {
            "colorbar": {
             "outlinewidth": 0,
             "ticks": ""
            },
            "type": "contourcarpet"
           }
          ],
          "heatmap": [
           {
            "colorbar": {
             "outlinewidth": 0,
             "ticks": ""
            },
            "colorscale": [
             [
              0,
              "#0d0887"
             ],
             [
              0.1111111111111111,
              "#46039f"
             ],
             [
              0.2222222222222222,
              "#7201a8"
             ],
             [
              0.3333333333333333,
              "#9c179e"
             ],
             [
              0.4444444444444444,
              "#bd3786"
             ],
             [
              0.5555555555555556,
              "#d8576b"
             ],
             [
              0.6666666666666666,
              "#ed7953"
             ],
             [
              0.7777777777777778,
              "#fb9f3a"
             ],
             [
              0.8888888888888888,
              "#fdca26"
             ],
             [
              1,
              "#f0f921"
             ]
            ],
            "type": "heatmap"
           }
          ],
          "heatmapgl": [
           {
            "colorbar": {
             "outlinewidth": 0,
             "ticks": ""
            },
            "colorscale": [
             [
              0,
              "#0d0887"
             ],
             [
              0.1111111111111111,
              "#46039f"
             ],
             [
              0.2222222222222222,
              "#7201a8"
             ],
             [
              0.3333333333333333,
              "#9c179e"
             ],
             [
              0.4444444444444444,
              "#bd3786"
             ],
             [
              0.5555555555555556,
              "#d8576b"
             ],
             [
              0.6666666666666666,
              "#ed7953"
             ],
             [
              0.7777777777777778,
              "#fb9f3a"
             ],
             [
              0.8888888888888888,
              "#fdca26"
             ],
             [
              1,
              "#f0f921"
             ]
            ],
            "type": "heatmapgl"
           }
          ],
          "histogram": [
           {
            "marker": {
             "pattern": {
              "fillmode": "overlay",
              "size": 10,
              "solidity": 0.2
             }
            },
            "type": "histogram"
           }
          ],
          "histogram2d": [
           {
            "colorbar": {
             "outlinewidth": 0,
             "ticks": ""
            },
            "colorscale": [
             [
              0,
              "#0d0887"
             ],
             [
              0.1111111111111111,
              "#46039f"
             ],
             [
              0.2222222222222222,
              "#7201a8"
             ],
             [
              0.3333333333333333,
              "#9c179e"
             ],
             [
              0.4444444444444444,
              "#bd3786"
             ],
             [
              0.5555555555555556,
              "#d8576b"
             ],
             [
              0.6666666666666666,
              "#ed7953"
             ],
             [
              0.7777777777777778,
              "#fb9f3a"
             ],
             [
              0.8888888888888888,
              "#fdca26"
             ],
             [
              1,
              "#f0f921"
             ]
            ],
            "type": "histogram2d"
           }
          ],
          "histogram2dcontour": [
           {
            "colorbar": {
             "outlinewidth": 0,
             "ticks": ""
            },
            "colorscale": [
             [
              0,
              "#0d0887"
             ],
             [
              0.1111111111111111,
              "#46039f"
             ],
             [
              0.2222222222222222,
              "#7201a8"
             ],
             [
              0.3333333333333333,
              "#9c179e"
             ],
             [
              0.4444444444444444,
              "#bd3786"
             ],
             [
              0.5555555555555556,
              "#d8576b"
             ],
             [
              0.6666666666666666,
              "#ed7953"
             ],
             [
              0.7777777777777778,
              "#fb9f3a"
             ],
             [
              0.8888888888888888,
              "#fdca26"
             ],
             [
              1,
              "#f0f921"
             ]
            ],
            "type": "histogram2dcontour"
           }
          ],
          "mesh3d": [
           {
            "colorbar": {
             "outlinewidth": 0,
             "ticks": ""
            },
            "type": "mesh3d"
           }
          ],
          "parcoords": [
           {
            "line": {
             "colorbar": {
              "outlinewidth": 0,
              "ticks": ""
             }
            },
            "type": "parcoords"
           }
          ],
          "pie": [
           {
            "automargin": true,
            "type": "pie"
           }
          ],
          "scatter": [
           {
            "marker": {
             "colorbar": {
              "outlinewidth": 0,
              "ticks": ""
             }
            },
            "type": "scatter"
           }
          ],
          "scatter3d": [
           {
            "line": {
             "colorbar": {
              "outlinewidth": 0,
              "ticks": ""
             }
            },
            "marker": {
             "colorbar": {
              "outlinewidth": 0,
              "ticks": ""
             }
            },
            "type": "scatter3d"
           }
          ],
          "scattercarpet": [
           {
            "marker": {
             "colorbar": {
              "outlinewidth": 0,
              "ticks": ""
             }
            },
            "type": "scattercarpet"
           }
          ],
          "scattergeo": [
           {
            "marker": {
             "colorbar": {
              "outlinewidth": 0,
              "ticks": ""
             }
            },
            "type": "scattergeo"
           }
          ],
          "scattergl": [
           {
            "marker": {
             "colorbar": {
              "outlinewidth": 0,
              "ticks": ""
             }
            },
            "type": "scattergl"
           }
          ],
          "scattermapbox": [
           {
            "marker": {
             "colorbar": {
              "outlinewidth": 0,
              "ticks": ""
             }
            },
            "type": "scattermapbox"
           }
          ],
          "scatterpolar": [
           {
            "marker": {
             "colorbar": {
              "outlinewidth": 0,
              "ticks": ""
             }
            },
            "type": "scatterpolar"
           }
          ],
          "scatterpolargl": [
           {
            "marker": {
             "colorbar": {
              "outlinewidth": 0,
              "ticks": ""
             }
            },
            "type": "scatterpolargl"
           }
          ],
          "scatterternary": [
           {
            "marker": {
             "colorbar": {
              "outlinewidth": 0,
              "ticks": ""
             }
            },
            "type": "scatterternary"
           }
          ],
          "surface": [
           {
            "colorbar": {
             "outlinewidth": 0,
             "ticks": ""
            },
            "colorscale": [
             [
              0,
              "#0d0887"
             ],
             [
              0.1111111111111111,
              "#46039f"
             ],
             [
              0.2222222222222222,
              "#7201a8"
             ],
             [
              0.3333333333333333,
              "#9c179e"
             ],
             [
              0.4444444444444444,
              "#bd3786"
             ],
             [
              0.5555555555555556,
              "#d8576b"
             ],
             [
              0.6666666666666666,
              "#ed7953"
             ],
             [
              0.7777777777777778,
              "#fb9f3a"
             ],
             [
              0.8888888888888888,
              "#fdca26"
             ],
             [
              1,
              "#f0f921"
             ]
            ],
            "type": "surface"
           }
          ],
          "table": [
           {
            "cells": {
             "fill": {
              "color": "#EBF0F8"
             },
             "line": {
              "color": "white"
             }
            },
            "header": {
             "fill": {
              "color": "#C8D4E3"
             },
             "line": {
              "color": "white"
             }
            },
            "type": "table"
           }
          ]
         },
         "layout": {
          "annotationdefaults": {
           "arrowcolor": "#2a3f5f",
           "arrowhead": 0,
           "arrowwidth": 1
          },
          "autotypenumbers": "strict",
          "coloraxis": {
           "colorbar": {
            "outlinewidth": 0,
            "ticks": ""
           }
          },
          "colorscale": {
           "diverging": [
            [
             0,
             "#8e0152"
            ],
            [
             0.1,
             "#c51b7d"
            ],
            [
             0.2,
             "#de77ae"
            ],
            [
             0.3,
             "#f1b6da"
            ],
            [
             0.4,
             "#fde0ef"
            ],
            [
             0.5,
             "#f7f7f7"
            ],
            [
             0.6,
             "#e6f5d0"
            ],
            [
             0.7,
             "#b8e186"
            ],
            [
             0.8,
             "#7fbc41"
            ],
            [
             0.9,
             "#4d9221"
            ],
            [
             1,
             "#276419"
            ]
           ],
           "sequential": [
            [
             0,
             "#0d0887"
            ],
            [
             0.1111111111111111,
             "#46039f"
            ],
            [
             0.2222222222222222,
             "#7201a8"
            ],
            [
             0.3333333333333333,
             "#9c179e"
            ],
            [
             0.4444444444444444,
             "#bd3786"
            ],
            [
             0.5555555555555556,
             "#d8576b"
            ],
            [
             0.6666666666666666,
             "#ed7953"
            ],
            [
             0.7777777777777778,
             "#fb9f3a"
            ],
            [
             0.8888888888888888,
             "#fdca26"
            ],
            [
             1,
             "#f0f921"
            ]
           ],
           "sequentialminus": [
            [
             0,
             "#0d0887"
            ],
            [
             0.1111111111111111,
             "#46039f"
            ],
            [
             0.2222222222222222,
             "#7201a8"
            ],
            [
             0.3333333333333333,
             "#9c179e"
            ],
            [
             0.4444444444444444,
             "#bd3786"
            ],
            [
             0.5555555555555556,
             "#d8576b"
            ],
            [
             0.6666666666666666,
             "#ed7953"
            ],
            [
             0.7777777777777778,
             "#fb9f3a"
            ],
            [
             0.8888888888888888,
             "#fdca26"
            ],
            [
             1,
             "#f0f921"
            ]
           ]
          },
          "colorway": [
           "#636efa",
           "#EF553B",
           "#00cc96",
           "#ab63fa",
           "#FFA15A",
           "#19d3f3",
           "#FF6692",
           "#B6E880",
           "#FF97FF",
           "#FECB52"
          ],
          "font": {
           "color": "#2a3f5f"
          },
          "geo": {
           "bgcolor": "white",
           "lakecolor": "white",
           "landcolor": "#E5ECF6",
           "showlakes": true,
           "showland": true,
           "subunitcolor": "white"
          },
          "hoverlabel": {
           "align": "left"
          },
          "hovermode": "closest",
          "mapbox": {
           "style": "light"
          },
          "paper_bgcolor": "white",
          "plot_bgcolor": "#E5ECF6",
          "polar": {
           "angularaxis": {
            "gridcolor": "white",
            "linecolor": "white",
            "ticks": ""
           },
           "bgcolor": "#E5ECF6",
           "radialaxis": {
            "gridcolor": "white",
            "linecolor": "white",
            "ticks": ""
           }
          },
          "scene": {
           "xaxis": {
            "backgroundcolor": "#E5ECF6",
            "gridcolor": "white",
            "gridwidth": 2,
            "linecolor": "white",
            "showbackground": true,
            "ticks": "",
            "zerolinecolor": "white"
           },
           "yaxis": {
            "backgroundcolor": "#E5ECF6",
            "gridcolor": "white",
            "gridwidth": 2,
            "linecolor": "white",
            "showbackground": true,
            "ticks": "",
            "zerolinecolor": "white"
           },
           "zaxis": {
            "backgroundcolor": "#E5ECF6",
            "gridcolor": "white",
            "gridwidth": 2,
            "linecolor": "white",
            "showbackground": true,
            "ticks": "",
            "zerolinecolor": "white"
           }
          },
          "shapedefaults": {
           "line": {
            "color": "#2a3f5f"
           }
          },
          "ternary": {
           "aaxis": {
            "gridcolor": "white",
            "linecolor": "white",
            "ticks": ""
           },
           "baxis": {
            "gridcolor": "white",
            "linecolor": "white",
            "ticks": ""
           },
           "bgcolor": "#E5ECF6",
           "caxis": {
            "gridcolor": "white",
            "linecolor": "white",
            "ticks": ""
           }
          },
          "title": {
           "x": 0.05
          },
          "xaxis": {
           "automargin": true,
           "gridcolor": "white",
           "linecolor": "white",
           "ticks": "",
           "title": {
            "standoff": 15
           },
           "zerolinecolor": "white",
           "zerolinewidth": 2
          },
          "yaxis": {
           "automargin": true,
           "gridcolor": "white",
           "linecolor": "white",
           "ticks": "",
           "title": {
            "standoff": 15
           },
           "zerolinecolor": "white",
           "zerolinewidth": 2
          }
         }
        },
        "xaxis": {
         "anchor": "y",
         "domain": [
          0,
          1
         ],
         "title": {
          "text": "support"
         }
        },
        "yaxis": {
         "anchor": "x",
         "domain": [
          0,
          1
         ],
         "title": {
          "text": "confidence"
         }
        }
       }
      },
      "text/html": [
       "<div>                            <div id=\"6edc406e-0783-41f2-ac31-42d1cf10452c\" class=\"plotly-graph-div\" style=\"height:525px; width:100%;\"></div>            <script type=\"text/javascript\">                require([\"plotly\"], function(Plotly) {                    window.PLOTLYENV=window.PLOTLYENV || {};                                    if (document.getElementById(\"6edc406e-0783-41f2-ac31-42d1cf10452c\")) {                    Plotly.newPlot(                        \"6edc406e-0783-41f2-ac31-42d1cf10452c\",                        [{\"hovertemplate\":\"support=%{x}<br>confidence=%{y}<extra></extra>\",\"legendgroup\":\"\",\"marker\":{\"color\":\"#636efa\",\"symbol\":\"circle\"},\"mode\":\"markers\",\"name\":\"\",\"orientation\":\"v\",\"showlegend\":false,\"x\":[0.5,0.5,0.4,0.4,0.1,0.1,0.2,0.2,0.6,0.6,0.1,0.1,0.1,0.1,0.1,0.1,0.2,0.2,0.1,0.1,0.1,0.1,0.1,0.1,0.1,0.1,0.1,0.1,0.1,0.1,0.1,0.1,0.4,0.4,0.4,0.4,0.4,0.4,0.1,0.1,0.1,0.1,0.1,0.1,0.1,0.1,0.1,0.1,0.1,0.1,0.1,0.1,0.1,0.1,0.1,0.1,0.1,0.1,0.1,0.1,0.1,0.1,0.1,0.1,0.1,0.1,0.1,0.1,0.1,0.1,0.1,0.1,0.1,0.1,0.1,0.1,0.1,0.1,0.1,0.1,0.1,0.1,0.1,0.1,0.1,0.1,0.1,0.1,0.1,0.1,0.1,0.1,0.1,0.1,0.1,0.1,0.1,0.1,0.1,0.1,0.1,0.1,0.1,0.1,0.1,0.1,0.1,0.1,0.1,0.1,0.1,0.1,0.1,0.1,0.1,0.1,0.1,0.1,0.1,0.1,0.1,0.1,0.1,0.1,0.1,0.1,0.1,0.1,0.1,0.1,0.1,0.1,0.1,0.1,0.1,0.1,0.1,0.1,0.1,0.1,0.1,0.1,0.1,0.1,0.1,0.1,0.1,0.1,0.1,0.1,0.1,0.1,0.1,0.1,0.1,0.1,0.1,0.1,0.1,0.1,0.1,0.1,0.1,0.1,0.1,0.1,0.1,0.1,0.1,0.1,0.1,0.1,0.1,0.1,0.1,0.1,0.1,0.1,0.1,0.1,0.1,0.1,0.1,0.1,0.1,0.1,0.1,0.1,0.1,0.1,0.1,0.1,0.1,0.1,0.1,0.1,0.1,0.1,0.1,0.1,0.1,0.1,0.1,0.1,0.1,0.1,0.1,0.1],\"xaxis\":\"x\",\"y\":[0.7142857142857143,0.8333333333333334,0.6666666666666667,0.6666666666666667,1.0,0.16666666666666669,1.0,0.33333333333333337,0.8571428571428572,1.0,0.14285714285714288,1.0,0.14285714285714288,1.0,0.5,0.5,1.0,1.0,0.5,0.5,0.5,0.5,1.0,0.5,0.5,0.5,0.16666666666666669,1.0,0.5,0.5,0.5,1.0,0.6666666666666667,0.8,1.0,0.5714285714285715,0.6666666666666667,0.6666666666666667,1.0,0.2,1.0,0.14285714285714288,1.0,0.16666666666666669,1.0,0.2,0.5,0.16666666666666669,1.0,1.0,1.0,0.5,0.16666666666666669,0.5,1.0,1.0,0.5,0.5,1.0,1.0,0.5,0.5,0.5,0.16666666666666669,1.0,1.0,1.0,0.5,0.16666666666666669,0.5,0.5,1.0,1.0,0.5,0.16666666666666669,0.5,0.5,1.0,1.0,0.5,0.16666666666666669,0.5,1.0,1.0,0.5,1.0,0.5,0.16666666666666669,0.16666666666666669,1.0,1.0,0.14285714285714288,0.16666666666666669,1.0,1.0,1.0,1.0,0.14285714285714288,0.5,1.0,1.0,0.5,1.0,0.5,0.5,0.5,1.0,1.0,1.0,0.5,0.5,0.5,1.0,0.5,1.0,0.5,0.5,0.5,1.0,1.0,1.0,0.5,0.5,0.5,1.0,1.0,1.0,1.0,1.0,0.2,1.0,0.5,1.0,1.0,0.14285714285714288,0.5,0.16666666666666669,1.0,1.0,1.0,1.0,1.0,1.0,1.0,0.5,1.0,1.0,1.0,0.5,0.16666666666666669,0.5,0.5,1.0,1.0,1.0,1.0,1.0,1.0,1.0,0.5,1.0,1.0,0.5,0.5,0.16666666666666669,0.5,1.0,1.0,1.0,1.0,1.0,1.0,0.5,0.5,1.0,1.0,0.5,0.5,0.16666666666666669,0.5,1.0,1.0,1.0,1.0,0.5,1.0,1.0,1.0,1.0,1.0,0.5,0.16666666666666669,0.5,0.5,1.0,1.0,1.0,1.0,1.0,1.0,0.5,1.0,1.0,1.0,0.5,0.5,0.5,0.5],\"yaxis\":\"y\",\"type\":\"scatter\"}],                        {\"template\":{\"data\":{\"bar\":[{\"error_x\":{\"color\":\"#2a3f5f\"},\"error_y\":{\"color\":\"#2a3f5f\"},\"marker\":{\"line\":{\"color\":\"#E5ECF6\",\"width\":0.5},\"pattern\":{\"fillmode\":\"overlay\",\"size\":10,\"solidity\":0.2}},\"type\":\"bar\"}],\"barpolar\":[{\"marker\":{\"line\":{\"color\":\"#E5ECF6\",\"width\":0.5},\"pattern\":{\"fillmode\":\"overlay\",\"size\":10,\"solidity\":0.2}},\"type\":\"barpolar\"}],\"carpet\":[{\"aaxis\":{\"endlinecolor\":\"#2a3f5f\",\"gridcolor\":\"white\",\"linecolor\":\"white\",\"minorgridcolor\":\"white\",\"startlinecolor\":\"#2a3f5f\"},\"baxis\":{\"endlinecolor\":\"#2a3f5f\",\"gridcolor\":\"white\",\"linecolor\":\"white\",\"minorgridcolor\":\"white\",\"startlinecolor\":\"#2a3f5f\"},\"type\":\"carpet\"}],\"choropleth\":[{\"colorbar\":{\"outlinewidth\":0,\"ticks\":\"\"},\"type\":\"choropleth\"}],\"contour\":[{\"colorbar\":{\"outlinewidth\":0,\"ticks\":\"\"},\"colorscale\":[[0.0,\"#0d0887\"],[0.1111111111111111,\"#46039f\"],[0.2222222222222222,\"#7201a8\"],[0.3333333333333333,\"#9c179e\"],[0.4444444444444444,\"#bd3786\"],[0.5555555555555556,\"#d8576b\"],[0.6666666666666666,\"#ed7953\"],[0.7777777777777778,\"#fb9f3a\"],[0.8888888888888888,\"#fdca26\"],[1.0,\"#f0f921\"]],\"type\":\"contour\"}],\"contourcarpet\":[{\"colorbar\":{\"outlinewidth\":0,\"ticks\":\"\"},\"type\":\"contourcarpet\"}],\"heatmap\":[{\"colorbar\":{\"outlinewidth\":0,\"ticks\":\"\"},\"colorscale\":[[0.0,\"#0d0887\"],[0.1111111111111111,\"#46039f\"],[0.2222222222222222,\"#7201a8\"],[0.3333333333333333,\"#9c179e\"],[0.4444444444444444,\"#bd3786\"],[0.5555555555555556,\"#d8576b\"],[0.6666666666666666,\"#ed7953\"],[0.7777777777777778,\"#fb9f3a\"],[0.8888888888888888,\"#fdca26\"],[1.0,\"#f0f921\"]],\"type\":\"heatmap\"}],\"heatmapgl\":[{\"colorbar\":{\"outlinewidth\":0,\"ticks\":\"\"},\"colorscale\":[[0.0,\"#0d0887\"],[0.1111111111111111,\"#46039f\"],[0.2222222222222222,\"#7201a8\"],[0.3333333333333333,\"#9c179e\"],[0.4444444444444444,\"#bd3786\"],[0.5555555555555556,\"#d8576b\"],[0.6666666666666666,\"#ed7953\"],[0.7777777777777778,\"#fb9f3a\"],[0.8888888888888888,\"#fdca26\"],[1.0,\"#f0f921\"]],\"type\":\"heatmapgl\"}],\"histogram\":[{\"marker\":{\"pattern\":{\"fillmode\":\"overlay\",\"size\":10,\"solidity\":0.2}},\"type\":\"histogram\"}],\"histogram2d\":[{\"colorbar\":{\"outlinewidth\":0,\"ticks\":\"\"},\"colorscale\":[[0.0,\"#0d0887\"],[0.1111111111111111,\"#46039f\"],[0.2222222222222222,\"#7201a8\"],[0.3333333333333333,\"#9c179e\"],[0.4444444444444444,\"#bd3786\"],[0.5555555555555556,\"#d8576b\"],[0.6666666666666666,\"#ed7953\"],[0.7777777777777778,\"#fb9f3a\"],[0.8888888888888888,\"#fdca26\"],[1.0,\"#f0f921\"]],\"type\":\"histogram2d\"}],\"histogram2dcontour\":[{\"colorbar\":{\"outlinewidth\":0,\"ticks\":\"\"},\"colorscale\":[[0.0,\"#0d0887\"],[0.1111111111111111,\"#46039f\"],[0.2222222222222222,\"#7201a8\"],[0.3333333333333333,\"#9c179e\"],[0.4444444444444444,\"#bd3786\"],[0.5555555555555556,\"#d8576b\"],[0.6666666666666666,\"#ed7953\"],[0.7777777777777778,\"#fb9f3a\"],[0.8888888888888888,\"#fdca26\"],[1.0,\"#f0f921\"]],\"type\":\"histogram2dcontour\"}],\"mesh3d\":[{\"colorbar\":{\"outlinewidth\":0,\"ticks\":\"\"},\"type\":\"mesh3d\"}],\"parcoords\":[{\"line\":{\"colorbar\":{\"outlinewidth\":0,\"ticks\":\"\"}},\"type\":\"parcoords\"}],\"pie\":[{\"automargin\":true,\"type\":\"pie\"}],\"scatter\":[{\"marker\":{\"colorbar\":{\"outlinewidth\":0,\"ticks\":\"\"}},\"type\":\"scatter\"}],\"scatter3d\":[{\"line\":{\"colorbar\":{\"outlinewidth\":0,\"ticks\":\"\"}},\"marker\":{\"colorbar\":{\"outlinewidth\":0,\"ticks\":\"\"}},\"type\":\"scatter3d\"}],\"scattercarpet\":[{\"marker\":{\"colorbar\":{\"outlinewidth\":0,\"ticks\":\"\"}},\"type\":\"scattercarpet\"}],\"scattergeo\":[{\"marker\":{\"colorbar\":{\"outlinewidth\":0,\"ticks\":\"\"}},\"type\":\"scattergeo\"}],\"scattergl\":[{\"marker\":{\"colorbar\":{\"outlinewidth\":0,\"ticks\":\"\"}},\"type\":\"scattergl\"}],\"scattermapbox\":[{\"marker\":{\"colorbar\":{\"outlinewidth\":0,\"ticks\":\"\"}},\"type\":\"scattermapbox\"}],\"scatterpolar\":[{\"marker\":{\"colorbar\":{\"outlinewidth\":0,\"ticks\":\"\"}},\"type\":\"scatterpolar\"}],\"scatterpolargl\":[{\"marker\":{\"colorbar\":{\"outlinewidth\":0,\"ticks\":\"\"}},\"type\":\"scatterpolargl\"}],\"scatterternary\":[{\"marker\":{\"colorbar\":{\"outlinewidth\":0,\"ticks\":\"\"}},\"type\":\"scatterternary\"}],\"surface\":[{\"colorbar\":{\"outlinewidth\":0,\"ticks\":\"\"},\"colorscale\":[[0.0,\"#0d0887\"],[0.1111111111111111,\"#46039f\"],[0.2222222222222222,\"#7201a8\"],[0.3333333333333333,\"#9c179e\"],[0.4444444444444444,\"#bd3786\"],[0.5555555555555556,\"#d8576b\"],[0.6666666666666666,\"#ed7953\"],[0.7777777777777778,\"#fb9f3a\"],[0.8888888888888888,\"#fdca26\"],[1.0,\"#f0f921\"]],\"type\":\"surface\"}],\"table\":[{\"cells\":{\"fill\":{\"color\":\"#EBF0F8\"},\"line\":{\"color\":\"white\"}},\"header\":{\"fill\":{\"color\":\"#C8D4E3\"},\"line\":{\"color\":\"white\"}},\"type\":\"table\"}]},\"layout\":{\"annotationdefaults\":{\"arrowcolor\":\"#2a3f5f\",\"arrowhead\":0,\"arrowwidth\":1},\"autotypenumbers\":\"strict\",\"coloraxis\":{\"colorbar\":{\"outlinewidth\":0,\"ticks\":\"\"}},\"colorscale\":{\"diverging\":[[0,\"#8e0152\"],[0.1,\"#c51b7d\"],[0.2,\"#de77ae\"],[0.3,\"#f1b6da\"],[0.4,\"#fde0ef\"],[0.5,\"#f7f7f7\"],[0.6,\"#e6f5d0\"],[0.7,\"#b8e186\"],[0.8,\"#7fbc41\"],[0.9,\"#4d9221\"],[1,\"#276419\"]],\"sequential\":[[0.0,\"#0d0887\"],[0.1111111111111111,\"#46039f\"],[0.2222222222222222,\"#7201a8\"],[0.3333333333333333,\"#9c179e\"],[0.4444444444444444,\"#bd3786\"],[0.5555555555555556,\"#d8576b\"],[0.6666666666666666,\"#ed7953\"],[0.7777777777777778,\"#fb9f3a\"],[0.8888888888888888,\"#fdca26\"],[1.0,\"#f0f921\"]],\"sequentialminus\":[[0.0,\"#0d0887\"],[0.1111111111111111,\"#46039f\"],[0.2222222222222222,\"#7201a8\"],[0.3333333333333333,\"#9c179e\"],[0.4444444444444444,\"#bd3786\"],[0.5555555555555556,\"#d8576b\"],[0.6666666666666666,\"#ed7953\"],[0.7777777777777778,\"#fb9f3a\"],[0.8888888888888888,\"#fdca26\"],[1.0,\"#f0f921\"]]},\"colorway\":[\"#636efa\",\"#EF553B\",\"#00cc96\",\"#ab63fa\",\"#FFA15A\",\"#19d3f3\",\"#FF6692\",\"#B6E880\",\"#FF97FF\",\"#FECB52\"],\"font\":{\"color\":\"#2a3f5f\"},\"geo\":{\"bgcolor\":\"white\",\"lakecolor\":\"white\",\"landcolor\":\"#E5ECF6\",\"showlakes\":true,\"showland\":true,\"subunitcolor\":\"white\"},\"hoverlabel\":{\"align\":\"left\"},\"hovermode\":\"closest\",\"mapbox\":{\"style\":\"light\"},\"paper_bgcolor\":\"white\",\"plot_bgcolor\":\"#E5ECF6\",\"polar\":{\"angularaxis\":{\"gridcolor\":\"white\",\"linecolor\":\"white\",\"ticks\":\"\"},\"bgcolor\":\"#E5ECF6\",\"radialaxis\":{\"gridcolor\":\"white\",\"linecolor\":\"white\",\"ticks\":\"\"}},\"scene\":{\"xaxis\":{\"backgroundcolor\":\"#E5ECF6\",\"gridcolor\":\"white\",\"gridwidth\":2,\"linecolor\":\"white\",\"showbackground\":true,\"ticks\":\"\",\"zerolinecolor\":\"white\"},\"yaxis\":{\"backgroundcolor\":\"#E5ECF6\",\"gridcolor\":\"white\",\"gridwidth\":2,\"linecolor\":\"white\",\"showbackground\":true,\"ticks\":\"\",\"zerolinecolor\":\"white\"},\"zaxis\":{\"backgroundcolor\":\"#E5ECF6\",\"gridcolor\":\"white\",\"gridwidth\":2,\"linecolor\":\"white\",\"showbackground\":true,\"ticks\":\"\",\"zerolinecolor\":\"white\"}},\"shapedefaults\":{\"line\":{\"color\":\"#2a3f5f\"}},\"ternary\":{\"aaxis\":{\"gridcolor\":\"white\",\"linecolor\":\"white\",\"ticks\":\"\"},\"baxis\":{\"gridcolor\":\"white\",\"linecolor\":\"white\",\"ticks\":\"\"},\"bgcolor\":\"#E5ECF6\",\"caxis\":{\"gridcolor\":\"white\",\"linecolor\":\"white\",\"ticks\":\"\"}},\"title\":{\"x\":0.05},\"xaxis\":{\"automargin\":true,\"gridcolor\":\"white\",\"linecolor\":\"white\",\"ticks\":\"\",\"title\":{\"standoff\":15},\"zerolinecolor\":\"white\",\"zerolinewidth\":2},\"yaxis\":{\"automargin\":true,\"gridcolor\":\"white\",\"linecolor\":\"white\",\"ticks\":\"\",\"title\":{\"standoff\":15},\"zerolinecolor\":\"white\",\"zerolinewidth\":2}}},\"xaxis\":{\"anchor\":\"y\",\"domain\":[0.0,1.0],\"title\":{\"text\":\"support\"}},\"yaxis\":{\"anchor\":\"x\",\"domain\":[0.0,1.0],\"title\":{\"text\":\"confidence\"}},\"legend\":{\"tracegroupgap\":0},\"margin\":{\"t\":60}},                        {\"responsive\": true}                    ).then(function(){\n",
       "                            \n",
       "var gd = document.getElementById('6edc406e-0783-41f2-ac31-42d1cf10452c');\n",
       "var x = new MutationObserver(function (mutations, observer) {{\n",
       "        var display = window.getComputedStyle(gd).display;\n",
       "        if (!display || display === 'none') {{\n",
       "            console.log([gd, 'removed!']);\n",
       "            Plotly.purge(gd);\n",
       "            observer.disconnect();\n",
       "        }}\n",
       "}});\n",
       "\n",
       "// Listen for the removal of the full notebook cells\n",
       "var notebookContainer = gd.closest('#notebook-container');\n",
       "if (notebookContainer) {{\n",
       "    x.observe(notebookContainer, {childList: true});\n",
       "}}\n",
       "\n",
       "// Listen for the clearing of the current output cell\n",
       "var outputEl = gd.closest('.output');\n",
       "if (outputEl) {{\n",
       "    x.observe(outputEl, {childList: true});\n",
       "}}\n",
       "\n",
       "                        })                };                });            </script>        </div>"
      ]
     },
     "metadata": {},
     "output_type": "display_data"
    }
   ],
   "source": [
    "px.scatter(df_asso_rules.iloc[:,2:],x='support',y='confidence')"
   ]
  },
  {
   "cell_type": "code",
   "execution_count": null,
   "metadata": {},
   "outputs": [],
   "source": []
  }
 ],
 "metadata": {
  "kernelspec": {
   "display_name": "Python 3",
   "language": "python",
   "name": "python3"
  },
  "language_info": {
   "codemirror_mode": {
    "name": "ipython",
    "version": 3
   },
   "file_extension": ".py",
   "mimetype": "text/x-python",
   "name": "python",
   "nbconvert_exporter": "python",
   "pygments_lexer": "ipython3",
   "version": "3.8.5"
  },
  "toc": {
   "base_numbering": 1,
   "nav_menu": {},
   "number_sections": true,
   "sideBar": true,
   "skip_h1_title": false,
   "title_cell": "Table of Contents",
   "title_sidebar": "Contents",
   "toc_cell": false,
   "toc_position": {},
   "toc_section_display": true,
   "toc_window_display": false
  },
  "varInspector": {
   "cols": {
    "lenName": 16,
    "lenType": 16,
    "lenVar": 40
   },
   "kernels_config": {
    "python": {
     "delete_cmd_postfix": "",
     "delete_cmd_prefix": "del ",
     "library": "var_list.py",
     "varRefreshCmd": "print(var_dic_list())"
    },
    "r": {
     "delete_cmd_postfix": ") ",
     "delete_cmd_prefix": "rm(",
     "library": "var_list.r",
     "varRefreshCmd": "cat(var_dic_list()) "
    }
   },
   "types_to_exclude": [
    "module",
    "function",
    "builtin_function_or_method",
    "instance",
    "_Feature"
   ],
   "window_display": false
  }
 },
 "nbformat": 4,
 "nbformat_minor": 4
}
